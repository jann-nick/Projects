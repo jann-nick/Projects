{
 "cells": [
  {
   "cell_type": "code",
   "execution_count": 3,
   "metadata": {},
   "outputs": [
    {
     "name": "stderr",
     "output_type": "stream",
     "text": [
      "Warning message:\n",
      "\"package 'tidytext' was built under R version 3.6.2\""
     ]
    },
    {
     "ename": "ERROR",
     "evalue": "Error in eval(expr, envir, enclos): object 'Sentiments' not found\n",
     "output_type": "error",
     "traceback": [
      "Error in eval(expr, envir, enclos): object 'Sentiments' not found\nTraceback:\n"
     ]
    }
   ],
   "source": [
    "library(tidytext)\n",
    "Sentiments"
   ]
  },
  {
   "cell_type": "code",
   "execution_count": 4,
   "metadata": {},
   "outputs": [
    {
     "ename": "ERROR",
     "evalue": "Error in library(janeaustenR): there is no package called 'janeaustenR'\n",
     "output_type": "error",
     "traceback": [
      "Error in library(janeaustenR): there is no package called 'janeaustenR'\nTraceback:\n",
      "1. library(janeaustenR)"
     ]
    }
   ],
   "source": [
    "library(janeaustenR)"
   ]
  },
  {
   "cell_type": "code",
   "execution_count": 2,
   "metadata": {},
   "outputs": [
    {
     "name": "stdout",
     "output_type": "stream",
     "text": [
      "package 'tidytext' successfully unpacked and MD5 sums checked\n",
      "\n",
      "The downloaded binary packages are in\n",
      "\tC:\\Users\\11031\\AppData\\Local\\Temp\\RtmpGQbOyE\\downloaded_packages\n"
     ]
    },
    {
     "name": "stderr",
     "output_type": "stream",
     "text": [
      "Warning message:\n",
      "\"package 'janeaustenR' is not available (for R version 3.6.1)\"Warning message:\n",
      "\"Perhaps you meant 'janeaustenr' ?\""
     ]
    }
   ],
   "source": [
    "install.packages(\"tidytext\")\n",
    "install.packages(\"janeaustenR\")"
   ]
  },
  {
   "cell_type": "code",
   "execution_count": 6,
   "metadata": {
    "collapsed": true
   },
   "outputs": [
    {
     "data": {
      "text/html": [
       "<table>\n",
       "<thead><tr><th scope=col>word</th><th scope=col>sentiment</th></tr></thead>\n",
       "<tbody>\n",
       "\t<tr><td>2-faces      </td><td>negative     </td></tr>\n",
       "\t<tr><td>abnormal     </td><td>negative     </td></tr>\n",
       "\t<tr><td>abolish      </td><td>negative     </td></tr>\n",
       "\t<tr><td>abominable   </td><td>negative     </td></tr>\n",
       "\t<tr><td>abominably   </td><td>negative     </td></tr>\n",
       "\t<tr><td>abominate    </td><td>negative     </td></tr>\n",
       "\t<tr><td>abomination  </td><td>negative     </td></tr>\n",
       "\t<tr><td>abort        </td><td>negative     </td></tr>\n",
       "\t<tr><td>aborted      </td><td>negative     </td></tr>\n",
       "\t<tr><td>aborts       </td><td>negative     </td></tr>\n",
       "\t<tr><td>abound       </td><td>positive     </td></tr>\n",
       "\t<tr><td>abounds      </td><td>positive     </td></tr>\n",
       "\t<tr><td>abrade       </td><td>negative     </td></tr>\n",
       "\t<tr><td>abrasive     </td><td>negative     </td></tr>\n",
       "\t<tr><td>abrupt       </td><td>negative     </td></tr>\n",
       "\t<tr><td>abruptly     </td><td>negative     </td></tr>\n",
       "\t<tr><td>abscond      </td><td>negative     </td></tr>\n",
       "\t<tr><td>absence      </td><td>negative     </td></tr>\n",
       "\t<tr><td>absent-minded</td><td>negative     </td></tr>\n",
       "\t<tr><td>absentee     </td><td>negative     </td></tr>\n",
       "\t<tr><td>absurd       </td><td>negative     </td></tr>\n",
       "\t<tr><td>absurdity    </td><td>negative     </td></tr>\n",
       "\t<tr><td>absurdly     </td><td>negative     </td></tr>\n",
       "\t<tr><td>absurdness   </td><td>negative     </td></tr>\n",
       "\t<tr><td>abundance    </td><td>positive     </td></tr>\n",
       "\t<tr><td>abundant     </td><td>positive     </td></tr>\n",
       "\t<tr><td>abuse        </td><td>negative     </td></tr>\n",
       "\t<tr><td>abused       </td><td>negative     </td></tr>\n",
       "\t<tr><td>abuses       </td><td>negative     </td></tr>\n",
       "\t<tr><td>abusive      </td><td>negative     </td></tr>\n",
       "\t<tr><td>...</td><td>...</td></tr>\n",
       "\t<tr><td>wrestle     </td><td>negative    </td></tr>\n",
       "\t<tr><td>wretch      </td><td>negative    </td></tr>\n",
       "\t<tr><td>wretched    </td><td>negative    </td></tr>\n",
       "\t<tr><td>wretchedly  </td><td>negative    </td></tr>\n",
       "\t<tr><td>wretchedness</td><td>negative    </td></tr>\n",
       "\t<tr><td>wrinkle     </td><td>negative    </td></tr>\n",
       "\t<tr><td>wrinkled    </td><td>negative    </td></tr>\n",
       "\t<tr><td>wrinkles    </td><td>negative    </td></tr>\n",
       "\t<tr><td>wrip        </td><td>negative    </td></tr>\n",
       "\t<tr><td>wripped     </td><td>negative    </td></tr>\n",
       "\t<tr><td>wripping    </td><td>negative    </td></tr>\n",
       "\t<tr><td>writhe      </td><td>negative    </td></tr>\n",
       "\t<tr><td>wrong       </td><td>negative    </td></tr>\n",
       "\t<tr><td>wrongful    </td><td>negative    </td></tr>\n",
       "\t<tr><td>wrongly     </td><td>negative    </td></tr>\n",
       "\t<tr><td>wrought     </td><td>negative    </td></tr>\n",
       "\t<tr><td>yawn        </td><td>negative    </td></tr>\n",
       "\t<tr><td>yay         </td><td>positive    </td></tr>\n",
       "\t<tr><td>youthful    </td><td>positive    </td></tr>\n",
       "\t<tr><td>zap         </td><td>negative    </td></tr>\n",
       "\t<tr><td>zapped      </td><td>negative    </td></tr>\n",
       "\t<tr><td>zaps        </td><td>negative    </td></tr>\n",
       "\t<tr><td>zeal        </td><td>positive    </td></tr>\n",
       "\t<tr><td>zealot      </td><td>negative    </td></tr>\n",
       "\t<tr><td>zealous     </td><td>negative    </td></tr>\n",
       "\t<tr><td>zealously   </td><td>negative    </td></tr>\n",
       "\t<tr><td>zenith      </td><td>positive    </td></tr>\n",
       "\t<tr><td>zest        </td><td>positive    </td></tr>\n",
       "\t<tr><td>zippy       </td><td>positive    </td></tr>\n",
       "\t<tr><td>zombie      </td><td>negative    </td></tr>\n",
       "</tbody>\n",
       "</table>\n"
      ],
      "text/latex": [
       "\\begin{tabular}{r|ll}\n",
       " word & sentiment\\\\\n",
       "\\hline\n",
       "\t 2-faces       & negative     \\\\\n",
       "\t abnormal      & negative     \\\\\n",
       "\t abolish       & negative     \\\\\n",
       "\t abominable    & negative     \\\\\n",
       "\t abominably    & negative     \\\\\n",
       "\t abominate     & negative     \\\\\n",
       "\t abomination   & negative     \\\\\n",
       "\t abort         & negative     \\\\\n",
       "\t aborted       & negative     \\\\\n",
       "\t aborts        & negative     \\\\\n",
       "\t abound        & positive     \\\\\n",
       "\t abounds       & positive     \\\\\n",
       "\t abrade        & negative     \\\\\n",
       "\t abrasive      & negative     \\\\\n",
       "\t abrupt        & negative     \\\\\n",
       "\t abruptly      & negative     \\\\\n",
       "\t abscond       & negative     \\\\\n",
       "\t absence       & negative     \\\\\n",
       "\t absent-minded & negative     \\\\\n",
       "\t absentee      & negative     \\\\\n",
       "\t absurd        & negative     \\\\\n",
       "\t absurdity     & negative     \\\\\n",
       "\t absurdly      & negative     \\\\\n",
       "\t absurdness    & negative     \\\\\n",
       "\t abundance     & positive     \\\\\n",
       "\t abundant      & positive     \\\\\n",
       "\t abuse         & negative     \\\\\n",
       "\t abused        & negative     \\\\\n",
       "\t abuses        & negative     \\\\\n",
       "\t abusive       & negative     \\\\\n",
       "\t ... & ...\\\\\n",
       "\t wrestle      & negative    \\\\\n",
       "\t wretch       & negative    \\\\\n",
       "\t wretched     & negative    \\\\\n",
       "\t wretchedly   & negative    \\\\\n",
       "\t wretchedness & negative    \\\\\n",
       "\t wrinkle      & negative    \\\\\n",
       "\t wrinkled     & negative    \\\\\n",
       "\t wrinkles     & negative    \\\\\n",
       "\t wrip         & negative    \\\\\n",
       "\t wripped      & negative    \\\\\n",
       "\t wripping     & negative    \\\\\n",
       "\t writhe       & negative    \\\\\n",
       "\t wrong        & negative    \\\\\n",
       "\t wrongful     & negative    \\\\\n",
       "\t wrongly      & negative    \\\\\n",
       "\t wrought      & negative    \\\\\n",
       "\t yawn         & negative    \\\\\n",
       "\t yay          & positive    \\\\\n",
       "\t youthful     & positive    \\\\\n",
       "\t zap          & negative    \\\\\n",
       "\t zapped       & negative    \\\\\n",
       "\t zaps         & negative    \\\\\n",
       "\t zeal         & positive    \\\\\n",
       "\t zealot       & negative    \\\\\n",
       "\t zealous      & negative    \\\\\n",
       "\t zealously    & negative    \\\\\n",
       "\t zenith       & positive    \\\\\n",
       "\t zest         & positive    \\\\\n",
       "\t zippy        & positive    \\\\\n",
       "\t zombie       & negative    \\\\\n",
       "\\end{tabular}\n"
      ],
      "text/markdown": [
       "\n",
       "| word | sentiment |\n",
       "|---|---|\n",
       "| 2-faces       | negative      |\n",
       "| abnormal      | negative      |\n",
       "| abolish       | negative      |\n",
       "| abominable    | negative      |\n",
       "| abominably    | negative      |\n",
       "| abominate     | negative      |\n",
       "| abomination   | negative      |\n",
       "| abort         | negative      |\n",
       "| aborted       | negative      |\n",
       "| aborts        | negative      |\n",
       "| abound        | positive      |\n",
       "| abounds       | positive      |\n",
       "| abrade        | negative      |\n",
       "| abrasive      | negative      |\n",
       "| abrupt        | negative      |\n",
       "| abruptly      | negative      |\n",
       "| abscond       | negative      |\n",
       "| absence       | negative      |\n",
       "| absent-minded | negative      |\n",
       "| absentee      | negative      |\n",
       "| absurd        | negative      |\n",
       "| absurdity     | negative      |\n",
       "| absurdly      | negative      |\n",
       "| absurdness    | negative      |\n",
       "| abundance     | positive      |\n",
       "| abundant      | positive      |\n",
       "| abuse         | negative      |\n",
       "| abused        | negative      |\n",
       "| abuses        | negative      |\n",
       "| abusive       | negative      |\n",
       "| ... | ... |\n",
       "| wrestle      | negative     |\n",
       "| wretch       | negative     |\n",
       "| wretched     | negative     |\n",
       "| wretchedly   | negative     |\n",
       "| wretchedness | negative     |\n",
       "| wrinkle      | negative     |\n",
       "| wrinkled     | negative     |\n",
       "| wrinkles     | negative     |\n",
       "| wrip         | negative     |\n",
       "| wripped      | negative     |\n",
       "| wripping     | negative     |\n",
       "| writhe       | negative     |\n",
       "| wrong        | negative     |\n",
       "| wrongful     | negative     |\n",
       "| wrongly      | negative     |\n",
       "| wrought      | negative     |\n",
       "| yawn         | negative     |\n",
       "| yay          | positive     |\n",
       "| youthful     | positive     |\n",
       "| zap          | negative     |\n",
       "| zapped       | negative     |\n",
       "| zaps         | negative     |\n",
       "| zeal         | positive     |\n",
       "| zealot       | negative     |\n",
       "| zealous      | negative     |\n",
       "| zealously    | negative     |\n",
       "| zenith       | positive     |\n",
       "| zest         | positive     |\n",
       "| zippy        | positive     |\n",
       "| zombie       | negative     |\n",
       "\n"
      ],
      "text/plain": [
       "     word          sentiment\n",
       "1    2-faces       negative \n",
       "2    abnormal      negative \n",
       "3    abolish       negative \n",
       "4    abominable    negative \n",
       "5    abominably    negative \n",
       "6    abominate     negative \n",
       "7    abomination   negative \n",
       "8    abort         negative \n",
       "9    aborted       negative \n",
       "10   aborts        negative \n",
       "11   abound        positive \n",
       "12   abounds       positive \n",
       "13   abrade        negative \n",
       "14   abrasive      negative \n",
       "15   abrupt        negative \n",
       "16   abruptly      negative \n",
       "17   abscond       negative \n",
       "18   absence       negative \n",
       "19   absent-minded negative \n",
       "20   absentee      negative \n",
       "21   absurd        negative \n",
       "22   absurdity     negative \n",
       "23   absurdly      negative \n",
       "24   absurdness    negative \n",
       "25   abundance     positive \n",
       "26   abundant      positive \n",
       "27   abuse         negative \n",
       "28   abused        negative \n",
       "29   abuses        negative \n",
       "30   abusive       negative \n",
       "...  ...           ...      \n",
       "6757 wrestle       negative \n",
       "6758 wretch        negative \n",
       "6759 wretched      negative \n",
       "6760 wretchedly    negative \n",
       "6761 wretchedness  negative \n",
       "6762 wrinkle       negative \n",
       "6763 wrinkled      negative \n",
       "6764 wrinkles      negative \n",
       "6765 wrip          negative \n",
       "6766 wripped       negative \n",
       "6767 wripping      negative \n",
       "6768 writhe        negative \n",
       "6769 wrong         negative \n",
       "6770 wrongful      negative \n",
       "6771 wrongly       negative \n",
       "6772 wrought       negative \n",
       "6773 yawn          negative \n",
       "6774 yay           positive \n",
       "6775 youthful      positive \n",
       "6776 zap           negative \n",
       "6777 zapped        negative \n",
       "6778 zaps          negative \n",
       "6779 zeal          positive \n",
       "6780 zealot        negative \n",
       "6781 zealous       negative \n",
       "6782 zealously     negative \n",
       "6783 zenith        positive \n",
       "6784 zest          positive \n",
       "6785 zippy         positive \n",
       "6786 zombie        negative "
      ]
     },
     "metadata": {},
     "output_type": "display_data"
    }
   ],
   "source": [
    "get_sentiments(\"bing\")"
   ]
  },
  {
   "cell_type": "code",
   "execution_count": 8,
   "metadata": {},
   "outputs": [
    {
     "name": "stderr",
     "output_type": "stream",
     "text": [
      "\n",
      "Attaching package: 'dplyr'\n",
      "\n",
      "The following objects are masked from 'package:stats':\n",
      "\n",
      "    filter, lag\n",
      "\n",
      "The following objects are masked from 'package:base':\n",
      "\n",
      "    intersect, setdiff, setequal, union\n",
      "\n"
     ]
    }
   ],
   "source": [
    "library(janeaustenr) # This package will provide textual data in form of books coauthored by Jane Austen\n",
    "library(stringr) \n",
    "library(tidytext) # Allows to perform efficient text analysis on our data\n",
    "library(dplyr)\n",
    "\n",
    "# Performing tidy operation on text such that each row contains single word.\n",
    "\n",
    "tidy_data = austen_books() %>%\n",
    "    group_by(book) %>%\n",
    "    mutate(linenumber = row_number(), \n",
    "          chapter = cumsum(str_detect(text, regex(\"^chapter[\\\\divxlc]\", ignore_case=TRUE)))) %>%\n",
    "ungroup() %>%\n",
    "unnest_tokens(word,text)"
   ]
  },
  {
   "cell_type": "code",
   "execution_count": 9,
   "metadata": {
    "collapsed": true
   },
   "outputs": [
    {
     "name": "stderr",
     "output_type": "stream",
     "text": [
      "Joining, by = \"word\""
     ]
    },
    {
     "data": {
      "text/html": [
       "<table>\n",
       "<thead><tr><th scope=col>word</th><th scope=col>n</th></tr></thead>\n",
       "<tbody>\n",
       "\t<tr><td>well     </td><td>401      </td></tr>\n",
       "\t<tr><td>good     </td><td>359      </td></tr>\n",
       "\t<tr><td>great    </td><td>264      </td></tr>\n",
       "\t<tr><td>like     </td><td>200      </td></tr>\n",
       "\t<tr><td>better   </td><td>173      </td></tr>\n",
       "\t<tr><td>enough   </td><td>129      </td></tr>\n",
       "\t<tr><td>happy    </td><td>125      </td></tr>\n",
       "\t<tr><td>love     </td><td>117      </td></tr>\n",
       "\t<tr><td>pleasure </td><td>115      </td></tr>\n",
       "\t<tr><td>right    </td><td> 92      </td></tr>\n",
       "\t<tr><td>best     </td><td> 85      </td></tr>\n",
       "\t<tr><td>happiness</td><td> 76      </td></tr>\n",
       "\t<tr><td>pretty   </td><td> 68      </td></tr>\n",
       "\t<tr><td>perfectly</td><td> 67      </td></tr>\n",
       "\t<tr><td>ready    </td><td> 66      </td></tr>\n",
       "\t<tr><td>comfort  </td><td> 65      </td></tr>\n",
       "\t<tr><td>assure   </td><td> 59      </td></tr>\n",
       "\t<tr><td>superior </td><td> 59      </td></tr>\n",
       "\t<tr><td>satisfied</td><td> 52      </td></tr>\n",
       "\t<tr><td>affection</td><td> 50      </td></tr>\n",
       "\t<tr><td>agreeable</td><td> 50      </td></tr>\n",
       "\t<tr><td>glad     </td><td> 50      </td></tr>\n",
       "\t<tr><td>wonder   </td><td> 49      </td></tr>\n",
       "\t<tr><td>pleased  </td><td> 47      </td></tr>\n",
       "\t<tr><td>smile    </td><td> 44      </td></tr>\n",
       "\t<tr><td>strong   </td><td> 44      </td></tr>\n",
       "\t<tr><td>regard   </td><td> 43      </td></tr>\n",
       "\t<tr><td>respect  </td><td> 43      </td></tr>\n",
       "\t<tr><td>fine     </td><td> 42      </td></tr>\n",
       "\t<tr><td>proper   </td><td> 42      </td></tr>\n",
       "\t<tr><td>...</td><td>...</td></tr>\n",
       "\t<tr><td>spontaneous   </td><td>1             </td></tr>\n",
       "\t<tr><td>steadiest     </td><td>1             </td></tr>\n",
       "\t<tr><td>stimulate     </td><td>1             </td></tr>\n",
       "\t<tr><td>stimulative   </td><td>1             </td></tr>\n",
       "\t<tr><td>strikingly    </td><td>1             </td></tr>\n",
       "\t<tr><td>sublime       </td><td>1             </td></tr>\n",
       "\t<tr><td>suffice       </td><td>1             </td></tr>\n",
       "\t<tr><td>sweeping      </td><td>1             </td></tr>\n",
       "\t<tr><td>tempting      </td><td>1             </td></tr>\n",
       "\t<tr><td>tenderly      </td><td>1             </td></tr>\n",
       "\t<tr><td>thinner       </td><td>1             </td></tr>\n",
       "\t<tr><td>thoughtfully  </td><td>1             </td></tr>\n",
       "\t<tr><td>thrive        </td><td>1             </td></tr>\n",
       "\t<tr><td>thriving      </td><td>1             </td></tr>\n",
       "\t<tr><td>tidy          </td><td>1             </td></tr>\n",
       "\t<tr><td>triumphant    </td><td>1             </td></tr>\n",
       "\t<tr><td>triumphantly  </td><td>1             </td></tr>\n",
       "\t<tr><td>unbiased      </td><td>1             </td></tr>\n",
       "\t<tr><td>undaunted     </td><td>1             </td></tr>\n",
       "\t<tr><td>unequivocal   </td><td>1             </td></tr>\n",
       "\t<tr><td>unequivocally </td><td>1             </td></tr>\n",
       "\t<tr><td>unquestionably</td><td>1             </td></tr>\n",
       "\t<tr><td>unselfish     </td><td>1             </td></tr>\n",
       "\t<tr><td>useable       </td><td>1             </td></tr>\n",
       "\t<tr><td>vouch         </td><td>1             </td></tr>\n",
       "\t<tr><td>win           </td><td>1             </td></tr>\n",
       "\t<tr><td>winning       </td><td>1             </td></tr>\n",
       "\t<tr><td>wins          </td><td>1             </td></tr>\n",
       "\t<tr><td>wisely        </td><td>1             </td></tr>\n",
       "\t<tr><td>works         </td><td>1             </td></tr>\n",
       "</tbody>\n",
       "</table>\n"
      ],
      "text/latex": [
       "\\begin{tabular}{r|ll}\n",
       " word & n\\\\\n",
       "\\hline\n",
       "\t well      & 401      \\\\\n",
       "\t good      & 359      \\\\\n",
       "\t great     & 264      \\\\\n",
       "\t like      & 200      \\\\\n",
       "\t better    & 173      \\\\\n",
       "\t enough    & 129      \\\\\n",
       "\t happy     & 125      \\\\\n",
       "\t love      & 117      \\\\\n",
       "\t pleasure  & 115      \\\\\n",
       "\t right     &  92      \\\\\n",
       "\t best      &  85      \\\\\n",
       "\t happiness &  76      \\\\\n",
       "\t pretty    &  68      \\\\\n",
       "\t perfectly &  67      \\\\\n",
       "\t ready     &  66      \\\\\n",
       "\t comfort   &  65      \\\\\n",
       "\t assure    &  59      \\\\\n",
       "\t superior  &  59      \\\\\n",
       "\t satisfied &  52      \\\\\n",
       "\t affection &  50      \\\\\n",
       "\t agreeable &  50      \\\\\n",
       "\t glad      &  50      \\\\\n",
       "\t wonder    &  49      \\\\\n",
       "\t pleased   &  47      \\\\\n",
       "\t smile     &  44      \\\\\n",
       "\t strong    &  44      \\\\\n",
       "\t regard    &  43      \\\\\n",
       "\t respect   &  43      \\\\\n",
       "\t fine      &  42      \\\\\n",
       "\t proper    &  42      \\\\\n",
       "\t ... & ...\\\\\n",
       "\t spontaneous    & 1             \\\\\n",
       "\t steadiest      & 1             \\\\\n",
       "\t stimulate      & 1             \\\\\n",
       "\t stimulative    & 1             \\\\\n",
       "\t strikingly     & 1             \\\\\n",
       "\t sublime        & 1             \\\\\n",
       "\t suffice        & 1             \\\\\n",
       "\t sweeping       & 1             \\\\\n",
       "\t tempting       & 1             \\\\\n",
       "\t tenderly       & 1             \\\\\n",
       "\t thinner        & 1             \\\\\n",
       "\t thoughtfully   & 1             \\\\\n",
       "\t thrive         & 1             \\\\\n",
       "\t thriving       & 1             \\\\\n",
       "\t tidy           & 1             \\\\\n",
       "\t triumphant     & 1             \\\\\n",
       "\t triumphantly   & 1             \\\\\n",
       "\t unbiased       & 1             \\\\\n",
       "\t undaunted      & 1             \\\\\n",
       "\t unequivocal    & 1             \\\\\n",
       "\t unequivocally  & 1             \\\\\n",
       "\t unquestionably & 1             \\\\\n",
       "\t unselfish      & 1             \\\\\n",
       "\t useable        & 1             \\\\\n",
       "\t vouch          & 1             \\\\\n",
       "\t win            & 1             \\\\\n",
       "\t winning        & 1             \\\\\n",
       "\t wins           & 1             \\\\\n",
       "\t wisely         & 1             \\\\\n",
       "\t works          & 1             \\\\\n",
       "\\end{tabular}\n"
      ],
      "text/markdown": [
       "\n",
       "| word | n |\n",
       "|---|---|\n",
       "| well      | 401       |\n",
       "| good      | 359       |\n",
       "| great     | 264       |\n",
       "| like      | 200       |\n",
       "| better    | 173       |\n",
       "| enough    | 129       |\n",
       "| happy     | 125       |\n",
       "| love      | 117       |\n",
       "| pleasure  | 115       |\n",
       "| right     |  92       |\n",
       "| best      |  85       |\n",
       "| happiness |  76       |\n",
       "| pretty    |  68       |\n",
       "| perfectly |  67       |\n",
       "| ready     |  66       |\n",
       "| comfort   |  65       |\n",
       "| assure    |  59       |\n",
       "| superior  |  59       |\n",
       "| satisfied |  52       |\n",
       "| affection |  50       |\n",
       "| agreeable |  50       |\n",
       "| glad      |  50       |\n",
       "| wonder    |  49       |\n",
       "| pleased   |  47       |\n",
       "| smile     |  44       |\n",
       "| strong    |  44       |\n",
       "| regard    |  43       |\n",
       "| respect   |  43       |\n",
       "| fine      |  42       |\n",
       "| proper    |  42       |\n",
       "| ... | ... |\n",
       "| spontaneous    | 1              |\n",
       "| steadiest      | 1              |\n",
       "| stimulate      | 1              |\n",
       "| stimulative    | 1              |\n",
       "| strikingly     | 1              |\n",
       "| sublime        | 1              |\n",
       "| suffice        | 1              |\n",
       "| sweeping       | 1              |\n",
       "| tempting       | 1              |\n",
       "| tenderly       | 1              |\n",
       "| thinner        | 1              |\n",
       "| thoughtfully   | 1              |\n",
       "| thrive         | 1              |\n",
       "| thriving       | 1              |\n",
       "| tidy           | 1              |\n",
       "| triumphant     | 1              |\n",
       "| triumphantly   | 1              |\n",
       "| unbiased       | 1              |\n",
       "| undaunted      | 1              |\n",
       "| unequivocal    | 1              |\n",
       "| unequivocally  | 1              |\n",
       "| unquestionably | 1              |\n",
       "| unselfish      | 1              |\n",
       "| useable        | 1              |\n",
       "| vouch          | 1              |\n",
       "| win            | 1              |\n",
       "| winning        | 1              |\n",
       "| wins           | 1              |\n",
       "| wisely         | 1              |\n",
       "| works          | 1              |\n",
       "\n"
      ],
      "text/plain": [
       "    word           n  \n",
       "1   well           401\n",
       "2   good           359\n",
       "3   great          264\n",
       "4   like           200\n",
       "5   better         173\n",
       "6   enough         129\n",
       "7   happy          125\n",
       "8   love           117\n",
       "9   pleasure       115\n",
       "10  right           92\n",
       "11  best            85\n",
       "12  happiness       76\n",
       "13  pretty          68\n",
       "14  perfectly       67\n",
       "15  ready           66\n",
       "16  comfort         65\n",
       "17  assure          59\n",
       "18  superior        59\n",
       "19  satisfied       52\n",
       "20  affection       50\n",
       "21  agreeable       50\n",
       "22  glad            50\n",
       "23  wonder          49\n",
       "24  pleased         47\n",
       "25  smile           44\n",
       "26  strong          44\n",
       "27  regard          43\n",
       "28  respect         43\n",
       "29  fine            42\n",
       "30  proper          42\n",
       "... ...            ...\n",
       "639 spontaneous    1  \n",
       "640 steadiest      1  \n",
       "641 stimulate      1  \n",
       "642 stimulative    1  \n",
       "643 strikingly     1  \n",
       "644 sublime        1  \n",
       "645 suffice        1  \n",
       "646 sweeping       1  \n",
       "647 tempting       1  \n",
       "648 tenderly       1  \n",
       "649 thinner        1  \n",
       "650 thoughtfully   1  \n",
       "651 thrive         1  \n",
       "652 thriving       1  \n",
       "653 tidy           1  \n",
       "654 triumphant     1  \n",
       "655 triumphantly   1  \n",
       "656 unbiased       1  \n",
       "657 undaunted      1  \n",
       "658 unequivocal    1  \n",
       "659 unequivocally  1  \n",
       "660 unquestionably 1  \n",
       "661 unselfish      1  \n",
       "662 useable        1  \n",
       "663 vouch          1  \n",
       "664 win            1  \n",
       "665 winning        1  \n",
       "666 wins           1  \n",
       "667 wisely         1  \n",
       "668 works          1  "
      ]
     },
     "metadata": {},
     "output_type": "display_data"
    }
   ],
   "source": [
    "# Use bing lexicon and implement filter over positive words\n",
    "\n",
    "positive_senti = get_sentiments(\"bing\") %>% \n",
    "    filter(sentiment == \"positive\")\n",
    "\n",
    "# Use Sense and Sensibility and derive its words to implement sentiment analysis model\n",
    "\n",
    "tidy_data %>%\n",
    "    filter(book == \"Emma\") %>%\n",
    "    semi_join(positive_senti) %>%\n",
    "    count(word, sort=TRUE)"
   ]
  },
  {
   "cell_type": "code",
   "execution_count": 10,
   "metadata": {},
   "outputs": [
    {
     "name": "stderr",
     "output_type": "stream",
     "text": [
      "Joining, by = \"word\""
     ]
    }
   ],
   "source": [
    "# Use spread function to segregate data into separate columns of positive and negative sentiments. \n",
    "# Use mutate to calculate overall sentiment\n",
    "\n",
    "library(tidyr)\n",
    "bing = get_sentiments(\"bing\")\n",
    "Emma_sentiment = tidy_data %>%\n",
    "    inner_join(bing) %>%\n",
    "    count(book = \"Emma\", index = linenumber %/% 80, sentiment) %>%\n",
    "    spread(sentiment, n, fill=0) %>%\n",
    "    mutate(sentiment = positive - negative)"
   ]
  },
  {
   "cell_type": "code",
   "execution_count": 11,
   "metadata": {
    "collapsed": true
   },
   "outputs": [
    {
     "name": "stderr",
     "output_type": "stream",
     "text": [
      "Registered S3 methods overwritten by 'ggplot2':\n",
      "  method         from \n",
      "  [.quosures     rlang\n",
      "  c.quosures     rlang\n",
      "  print.quosures rlang\n"
     ]
    },
    {
     "data": {
      "text/plain": [
       "<ggproto object: Class FacetWrap, Facet, gg>\n",
       "    compute_layout: function\n",
       "    draw_back: function\n",
       "    draw_front: function\n",
       "    draw_labels: function\n",
       "    draw_panels: function\n",
       "    finish_data: function\n",
       "    init_scales: function\n",
       "    map_data: function\n",
       "    params: list\n",
       "    setup_data: function\n",
       "    setup_params: function\n",
       "    shrink: TRUE\n",
       "    train_scales: function\n",
       "    vars: function\n",
       "    super:  <ggproto object: Class FacetWrap, Facet, gg>"
      ]
     },
     "metadata": {},
     "output_type": "display_data"
    },
    {
     "data": {
      "image/png": "[encoded data removed]",
      "text/plain": [
       "plot without title"
      ]
     },
     "metadata": {},
     "output_type": "display_data"
    }
   ],
   "source": [
    "# Visualize words in Emma based on positive and negative scores\n",
    "\n",
    "library(ggplot2)\n",
    "ggplot(Emma_sentiment, aes(index,sentiment,fill=book))+\n",
    "geom_bar(stat=\"identity\", show.legend=TRUE)\n",
    "facet_wrap(~book, ncol=2, scales=\"free_x\")"
   ]
  },
  {
   "cell_type": "code",
   "execution_count": 12,
   "metadata": {
    "collapsed": true
   },
   "outputs": [
    {
     "name": "stderr",
     "output_type": "stream",
     "text": [
      "Joining, by = \"word\""
     ]
    },
    {
     "data": {
      "text/html": [
       "<table>\n",
       "<thead><tr><th scope=col>word</th><th scope=col>sentiment</th><th scope=col>n</th></tr></thead>\n",
       "<tbody>\n",
       "\t<tr><td>miss    </td><td>negative</td><td>1855    </td></tr>\n",
       "\t<tr><td>well    </td><td>positive</td><td>1523    </td></tr>\n",
       "\t<tr><td>good    </td><td>positive</td><td>1380    </td></tr>\n",
       "\t<tr><td>great   </td><td>positive</td><td> 981    </td></tr>\n",
       "\t<tr><td>like    </td><td>positive</td><td> 725    </td></tr>\n",
       "\t<tr><td>better  </td><td>positive</td><td> 639    </td></tr>\n",
       "</tbody>\n",
       "</table>\n"
      ],
      "text/latex": [
       "\\begin{tabular}{r|lll}\n",
       " word & sentiment & n\\\\\n",
       "\\hline\n",
       "\t miss     & negative & 1855    \\\\\n",
       "\t well     & positive & 1523    \\\\\n",
       "\t good     & positive & 1380    \\\\\n",
       "\t great    & positive &  981    \\\\\n",
       "\t like     & positive &  725    \\\\\n",
       "\t better   & positive &  639    \\\\\n",
       "\\end{tabular}\n"
      ],
      "text/markdown": [
       "\n",
       "| word | sentiment | n |\n",
       "|---|---|---|\n",
       "| miss     | negative | 1855     |\n",
       "| well     | positive | 1523     |\n",
       "| good     | positive | 1380     |\n",
       "| great    | positive |  981     |\n",
       "| like     | positive |  725     |\n",
       "| better   | positive |  639     |\n",
       "\n"
      ],
      "text/plain": [
       "  word   sentiment n   \n",
       "1 miss   negative  1855\n",
       "2 well   positive  1523\n",
       "3 good   positive  1380\n",
       "4 great  positive   981\n",
       "5 like   positive   725\n",
       "6 better positive   639"
      ]
     },
     "metadata": {},
     "output_type": "display_data"
    }
   ],
   "source": [
    "# Count most common positive and negative words present in novel\n",
    "\n",
    "counting_words = tidy_data %>%\n",
    "    inner_join(bing) %>%\n",
    "    count(word, sentiment, sort=TRUE)\n",
    "head(counting_words)"
   ]
  },
  {
   "cell_type": "code",
   "execution_count": 13,
   "metadata": {
    "collapsed": true
   },
   "outputs": [
    {
     "data": {
      "image/png": "[encoded data removed]",
      "text/plain": [
       "plot without title"
      ]
     },
     "metadata": {},
     "output_type": "display_data"
    }
   ],
   "source": [
    "# Visualization of sentiment score\n",
    "\n",
    "counting_words %>%\n",
    "    filter(n>150) %>%\n",
    "    mutate(n = ifelse(sentiment == \"negative\", -n, n)) %>%\n",
    "    mutate(word = reorder(word, n)) %>%\n",
    "    ggplot(aes(word, n, fill=sentiment)) +\n",
    "    geom_col() +\n",
    "    coord_flip() +\n",
    "    labs(y = \"Sentiment Score\")"
   ]
  },
  {
   "cell_type": "code",
   "execution_count": 14,
   "metadata": {
    "collapsed": true
   },
   "outputs": [
    {
     "name": "stderr",
     "output_type": "stream",
     "text": [
      "\n",
      "Attaching package: 'reshape2'\n",
      "\n",
      "The following object is masked from 'package:tidyr':\n",
      "\n",
      "    smiths\n",
      "\n",
      "Warning message:\n",
      "\"package 'wordcloud' was built under R version 3.6.2\"Loading required package: RColorBrewer\n",
      "Joining, by = \"word\""
     ]
    },
    {
     "data": {
      "image/png": "[encoded data removed]",
      "text/plain": [
       "plot without title"
      ]
     },
     "metadata": {},
     "output_type": "display_data"
    }
   ],
   "source": [
    "# Use wordcloud to delineate most recurring positive and negative words\n",
    "# Comparison cloud to plot both positive and negative words in single wordcloud\n",
    "\n",
    "library(reshape2)\n",
    "library(wordcloud)\n",
    "tidy_data %>%\n",
    "    inner_join(bing) %>%\n",
    "    count(word, sentiment, sort=TRUE) %>%\n",
    "    acast(word ~ sentiment, value.var = \"n\", fill=0) %>%\n",
    "    comparison.cloud(colors=c(\"red\",\"dark green\"), max.words=100)"
   ]
  },
  {
   "cell_type": "code",
   "execution_count": 1,
   "metadata": {},
   "outputs": [
    {
     "name": "stdout",
     "output_type": "stream",
     "text": [
      "package 'wordcloud' successfully unpacked and MD5 sums checked\n",
      "\n",
      "The downloaded binary packages are in\n",
      "\tC:\\Users\\11031\\AppData\\Local\\Temp\\RtmpGQbOyE\\downloaded_packages\n"
     ]
    }
   ],
   "source": [
    "install.packages(\"wordcloud\")"
   ]
  },
  {
   "cell_type": "code",
   "execution_count": null,
   "metadata": {},
   "outputs": [],
   "source": []
  }
 ],
 "metadata": {
  "kernelspec": {
   "display_name": "R",
   "language": "R",
   "name": "ir"
  },
  "language_info": {
   "codemirror_mode": "r",
   "file_extension": ".r",
   "mimetype": "text/x-r-source",
   "name": "R",
   "pygments_lexer": "r",
   "version": "3.6.1"
  }
 },
 "nbformat": 4,
 "nbformat_minor": 2
}
