{
 "cells": [
  {
   "cell_type": "code",
   "execution_count": 4,
   "metadata": {},
   "outputs": [],
   "source": [
    "import pandas as pd\n",
    "import numpy as np\n",
    "import matplotlib.pyplot as plt\n",
    "%matplotlib inline\n",
    "from datetime import datetime"
   ]
  },
  {
   "cell_type": "code",
   "execution_count": 5,
   "metadata": {},
   "outputs": [
    {
     "name": "stdout",
     "output_type": "stream",
     "text": [
      "Requirement already satisfied: seaborn in c:\\users\\11031\\appdata\\local\\continuum\\anaconda3\\envs\\r-tutorial\\lib\\site-packages (0.9.0)\n",
      "Requirement already satisfied: numpy>=1.9.3 in c:\\users\\11031\\appdata\\local\\continuum\\anaconda3\\envs\\r-tutorial\\lib\\site-packages (from seaborn) (1.18.0)\n",
      "Requirement already satisfied: matplotlib>=1.4.3 in c:\\users\\11031\\appdata\\local\\continuum\\anaconda3\\envs\\r-tutorial\\lib\\site-packages (from seaborn) (3.1.2)\n",
      "Requirement already satisfied: scipy>=0.14.0 in c:\\users\\11031\\appdata\\local\\continuum\\anaconda3\\envs\\r-tutorial\\lib\\site-packages (from seaborn) (1.4.1)\n",
      "Requirement already satisfied: pandas>=0.15.2 in c:\\users\\11031\\appdata\\local\\continuum\\anaconda3\\envs\\r-tutorial\\lib\\site-packages (from seaborn) (0.25.3)\n",
      "Requirement already satisfied: kiwisolver>=1.0.1 in c:\\users\\11031\\appdata\\local\\continuum\\anaconda3\\envs\\r-tutorial\\lib\\site-packages (from matplotlib>=1.4.3->seaborn) (1.1.0)\n",
      "Requirement already satisfied: pyparsing!=2.0.4,!=2.1.2,!=2.1.6,>=2.0.1 in c:\\users\\11031\\appdata\\local\\continuum\\anaconda3\\envs\\r-tutorial\\lib\\site-packages (from matplotlib>=1.4.3->seaborn) (2.4.6)\n",
      "Requirement already satisfied: python-dateutil>=2.1 in c:\\users\\11031\\appdata\\local\\continuum\\anaconda3\\envs\\r-tutorial\\lib\\site-packages (from matplotlib>=1.4.3->seaborn) (2.8.1)\n",
      "Requirement already satisfied: cycler>=0.10 in c:\\users\\11031\\appdata\\local\\continuum\\anaconda3\\envs\\r-tutorial\\lib\\site-packages (from matplotlib>=1.4.3->seaborn) (0.10.0)\n",
      "Requirement already satisfied: pytz>=2017.2 in c:\\users\\11031\\appdata\\local\\continuum\\anaconda3\\envs\\r-tutorial\\lib\\site-packages (from pandas>=0.15.2->seaborn) (2019.3)\n",
      "Requirement already satisfied: setuptools in c:\\users\\11031\\appdata\\local\\continuum\\anaconda3\\envs\\r-tutorial\\lib\\site-packages (from kiwisolver>=1.0.1->matplotlib>=1.4.3->seaborn) (42.0.2.post20191203)\n",
      "Requirement already satisfied: six>=1.5 in c:\\users\\11031\\appdata\\local\\continuum\\anaconda3\\envs\\r-tutorial\\lib\\site-packages (from python-dateutil>=2.1->matplotlib>=1.4.3->seaborn) (1.13.0)\n",
      "Note: you may need to restart the kernel to use updated packages.\n"
     ]
    }
   ],
   "source": [
    "pip install seaborn"
   ]
  },
  {
   "cell_type": "code",
   "execution_count": 6,
   "metadata": {},
   "outputs": [
    {
     "name": "stdout",
     "output_type": "stream",
     "text": [
      "Requirement already satisfied: catboost in c:\\users\\11031\\appdata\\local\\continuum\\anaconda3\\envs\\r-tutorial\\lib\\site-packages (0.20.2)\n",
      "Requirement already satisfied: scipy in c:\\users\\11031\\appdata\\local\\continuum\\anaconda3\\envs\\r-tutorial\\lib\\site-packages (from catboost) (1.4.1)\n",
      "Requirement already satisfied: pandas>=0.24.0 in c:\\users\\11031\\appdata\\local\\continuum\\anaconda3\\envs\\r-tutorial\\lib\\site-packages (from catboost) (0.25.3)\n",
      "Requirement already satisfied: plotly in c:\\users\\11031\\appdata\\local\\continuum\\anaconda3\\envs\\r-tutorial\\lib\\site-packages (from catboost) (4.4.1)\n",
      "Requirement already satisfied: graphviz in c:\\users\\11031\\appdata\\local\\continuum\\anaconda3\\envs\\r-tutorial\\lib\\site-packages (from catboost) (0.13.2)\n",
      "Requirement already satisfied: numpy>=1.16.0 in c:\\users\\11031\\appdata\\local\\continuum\\anaconda3\\envs\\r-tutorial\\lib\\site-packages (from catboost) (1.18.0)\n",
      "Requirement already satisfied: six in c:\\users\\11031\\appdata\\local\\continuum\\anaconda3\\envs\\r-tutorial\\lib\\site-packages (from catboost) (1.13.0)\n",
      "Requirement already satisfied: matplotlib in c:\\users\\11031\\appdata\\local\\continuum\\anaconda3\\envs\\r-tutorial\\lib\\site-packages (from catboost) (3.1.2)\n",
      "Requirement already satisfied: python-dateutil>=2.6.1 in c:\\users\\11031\\appdata\\local\\continuum\\anaconda3\\envs\\r-tutorial\\lib\\site-packages (from pandas>=0.24.0->catboost) (2.8.1)\n",
      "Requirement already satisfied: pytz>=2017.2 in c:\\users\\11031\\appdata\\local\\continuum\\anaconda3\\envs\\r-tutorial\\lib\\site-packages (from pandas>=0.24.0->catboost) (2019.3)\n",
      "Requirement already satisfied: retrying>=1.3.3 in c:\\users\\11031\\appdata\\local\\continuum\\anaconda3\\envs\\r-tutorial\\lib\\site-packages (from plotly->catboost) (1.3.3)\n",
      "Requirement already satisfied: kiwisolver>=1.0.1 in c:\\users\\11031\\appdata\\local\\continuum\\anaconda3\\envs\\r-tutorial\\lib\\site-packages (from matplotlib->catboost) (1.1.0)\n",
      "Requirement already satisfied: cycler>=0.10 in c:\\users\\11031\\appdata\\local\\continuum\\anaconda3\\envs\\r-tutorial\\lib\\site-packages (from matplotlib->catboost) (0.10.0)\n",
      "Requirement already satisfied: pyparsing!=2.0.4,!=2.1.2,!=2.1.6,>=2.0.1 in c:\\users\\11031\\appdata\\local\\continuum\\anaconda3\\envs\\r-tutorial\\lib\\site-packages (from matplotlib->catboost) (2.4.6)\n",
      "Requirement already satisfied: setuptools in c:\\users\\11031\\appdata\\local\\continuum\\anaconda3\\envs\\r-tutorial\\lib\\site-packages (from kiwisolver>=1.0.1->matplotlib->catboost) (42.0.2.post20191203)\n",
      "Note: you may need to restart the kernel to use updated packages.\n"
     ]
    }
   ],
   "source": [
    "pip install catboost"
   ]
  },
  {
   "cell_type": "code",
   "execution_count": 11,
   "metadata": {},
   "outputs": [],
   "source": [
    "import seaborn as sns\n",
    "from catboost import CatBoostClassifier\n",
    "import catboost as cb"
   ]
  },
  {
   "cell_type": "code",
   "execution_count": 12,
   "metadata": {},
   "outputs": [],
   "source": [
    "train_data = pd.read_csv(\"D:/Misc/Forecast/amexpert-2019/train.csv\")\n",
    "cust_demo_data = pd.read_csv(\"D:/Misc/Forecast/amexpert-2019/customer_demographics.csv\")\n",
    "campaign_data = pd.read_csv(\"D:/Misc/Forecast/amexpert-2019/campaign_data.csv\")\n",
    "coupon_item_mapping = pd.read_csv(\"D:/Misc/Forecast/amexpert-2019/coupon_item_mapping.csv\")\n",
    "customer_transaction_data = pd.read_csv(\"D:/Misc/Forecast/amexpert-2019/customer_transaction_data.csv\")\n",
    "item_data = pd.read_csv(\"D:/Misc/Forecast/amexpert-2019/item_data.csv\")"
   ]
  },
  {
   "cell_type": "code",
   "execution_count": 13,
   "metadata": {},
   "outputs": [
    {
     "data": {
      "text/plain": [
       "count     222\n",
       "unique      3\n",
       "top         1\n",
       "freq      107\n",
       "Name: no_of_children, dtype: object"
      ]
     },
     "execution_count": 13,
     "metadata": {},
     "output_type": "execute_result"
    }
   ],
   "source": [
    "cust_demo_data[\"no_of_children\"].describe()"
   ]
  },
  {
   "cell_type": "code",
   "execution_count": 14,
   "metadata": {},
   "outputs": [],
   "source": [
    "cust_demo_data[\"no_of_children\"].fillna(0, inplace=True)"
   ]
  },
  {
   "cell_type": "code",
   "execution_count": 15,
   "metadata": {},
   "outputs": [],
   "source": [
    "cust_demo_data[\"marital_status\"] = np.where(cust_demo_data[\"marital_status\"].isna(), np.where(cust_demo_data[\"no_of_children\"]==0,\"Single\",\"Married\"),cust_demo_data[\"marital_status\"])"
   ]
  },
  {
   "cell_type": "code",
   "execution_count": 16,
   "metadata": {},
   "outputs": [
    {
     "data": {
      "text/plain": [
       "760"
      ]
     },
     "execution_count": 16,
     "metadata": {},
     "output_type": "execute_result"
    }
   ],
   "source": [
    "cust_demo_data[\"marital_status\"].count()"
   ]
  },
  {
   "cell_type": "code",
   "execution_count": 17,
   "metadata": {},
   "outputs": [
    {
     "name": "stdout",
     "output_type": "stream",
     "text": [
      "<class 'pandas.core.frame.DataFrame'>\n",
      "RangeIndex: 78369 entries, 0 to 78368\n",
      "Data columns (total 5 columns):\n",
      "id                   78369 non-null int64\n",
      "campaign_id          78369 non-null int64\n",
      "coupon_id            78369 non-null int64\n",
      "customer_id          78369 non-null int64\n",
      "redemption_status    78369 non-null int64\n",
      "dtypes: int64(5)\n",
      "memory usage: 3.0 MB\n"
     ]
    }
   ],
   "source": [
    "train_data.info()"
   ]
  },
  {
   "cell_type": "code",
   "execution_count": 18,
   "metadata": {},
   "outputs": [
    {
     "data": {
      "text/html": [
       "<div>\n",
       "<style scoped>\n",
       "    .dataframe tbody tr th:only-of-type {\n",
       "        vertical-align: middle;\n",
       "    }\n",
       "\n",
       "    .dataframe tbody tr th {\n",
       "        vertical-align: top;\n",
       "    }\n",
       "\n",
       "    .dataframe thead th {\n",
       "        text-align: right;\n",
       "    }\n",
       "</style>\n",
       "<table border=\"1\" class=\"dataframe\">\n",
       "  <thead>\n",
       "    <tr style=\"text-align: right;\">\n",
       "      <th></th>\n",
       "      <th>id</th>\n",
       "      <th>campaign_id</th>\n",
       "      <th>coupon_id</th>\n",
       "      <th>customer_id</th>\n",
       "      <th>redemption_status</th>\n",
       "    </tr>\n",
       "  </thead>\n",
       "  <tbody>\n",
       "    <tr>\n",
       "      <th>0</th>\n",
       "      <td>1</td>\n",
       "      <td>13</td>\n",
       "      <td>27</td>\n",
       "      <td>1053</td>\n",
       "      <td>0</td>\n",
       "    </tr>\n",
       "    <tr>\n",
       "      <th>1</th>\n",
       "      <td>2</td>\n",
       "      <td>13</td>\n",
       "      <td>116</td>\n",
       "      <td>48</td>\n",
       "      <td>0</td>\n",
       "    </tr>\n",
       "    <tr>\n",
       "      <th>2</th>\n",
       "      <td>6</td>\n",
       "      <td>9</td>\n",
       "      <td>635</td>\n",
       "      <td>205</td>\n",
       "      <td>0</td>\n",
       "    </tr>\n",
       "    <tr>\n",
       "      <th>3</th>\n",
       "      <td>7</td>\n",
       "      <td>13</td>\n",
       "      <td>644</td>\n",
       "      <td>1050</td>\n",
       "      <td>0</td>\n",
       "    </tr>\n",
       "    <tr>\n",
       "      <th>4</th>\n",
       "      <td>9</td>\n",
       "      <td>8</td>\n",
       "      <td>1017</td>\n",
       "      <td>1489</td>\n",
       "      <td>0</td>\n",
       "    </tr>\n",
       "  </tbody>\n",
       "</table>\n",
       "</div>"
      ],
      "text/plain": [
       "   id  campaign_id  coupon_id  customer_id  redemption_status\n",
       "0   1           13         27         1053                  0\n",
       "1   2           13        116           48                  0\n",
       "2   6            9        635          205                  0\n",
       "3   7           13        644         1050                  0\n",
       "4   9            8       1017         1489                  0"
      ]
     },
     "execution_count": 18,
     "metadata": {},
     "output_type": "execute_result"
    }
   ],
   "source": [
    "train_data.head()"
   ]
  },
  {
   "cell_type": "code",
   "execution_count": 19,
   "metadata": {},
   "outputs": [
    {
     "data": {
      "text/html": [
       "<div>\n",
       "<style scoped>\n",
       "    .dataframe tbody tr th:only-of-type {\n",
       "        vertical-align: middle;\n",
       "    }\n",
       "\n",
       "    .dataframe tbody tr th {\n",
       "        vertical-align: top;\n",
       "    }\n",
       "\n",
       "    .dataframe thead th {\n",
       "        text-align: right;\n",
       "    }\n",
       "</style>\n",
       "<table border=\"1\" class=\"dataframe\">\n",
       "  <thead>\n",
       "    <tr style=\"text-align: right;\">\n",
       "      <th></th>\n",
       "      <th>campaign_id</th>\n",
       "      <th>campaign_type</th>\n",
       "      <th>start_date</th>\n",
       "      <th>end_date</th>\n",
       "    </tr>\n",
       "  </thead>\n",
       "  <tbody>\n",
       "    <tr>\n",
       "      <th>0</th>\n",
       "      <td>24</td>\n",
       "      <td>Y</td>\n",
       "      <td>21/10/13</td>\n",
       "      <td>20/12/13</td>\n",
       "    </tr>\n",
       "    <tr>\n",
       "      <th>1</th>\n",
       "      <td>25</td>\n",
       "      <td>Y</td>\n",
       "      <td>21/10/13</td>\n",
       "      <td>22/11/13</td>\n",
       "    </tr>\n",
       "    <tr>\n",
       "      <th>2</th>\n",
       "      <td>20</td>\n",
       "      <td>Y</td>\n",
       "      <td>07/09/13</td>\n",
       "      <td>16/11/13</td>\n",
       "    </tr>\n",
       "    <tr>\n",
       "      <th>3</th>\n",
       "      <td>23</td>\n",
       "      <td>Y</td>\n",
       "      <td>08/10/13</td>\n",
       "      <td>15/11/13</td>\n",
       "    </tr>\n",
       "    <tr>\n",
       "      <th>4</th>\n",
       "      <td>21</td>\n",
       "      <td>Y</td>\n",
       "      <td>16/09/13</td>\n",
       "      <td>18/10/13</td>\n",
       "    </tr>\n",
       "  </tbody>\n",
       "</table>\n",
       "</div>"
      ],
      "text/plain": [
       "   campaign_id campaign_type start_date  end_date\n",
       "0           24             Y   21/10/13  20/12/13\n",
       "1           25             Y   21/10/13  22/11/13\n",
       "2           20             Y   07/09/13  16/11/13\n",
       "3           23             Y   08/10/13  15/11/13\n",
       "4           21             Y   16/09/13  18/10/13"
      ]
     },
     "execution_count": 19,
     "metadata": {},
     "output_type": "execute_result"
    }
   ],
   "source": [
    "campaign_data.head()"
   ]
  },
  {
   "cell_type": "code",
   "execution_count": 20,
   "metadata": {},
   "outputs": [],
   "source": [
    "train_data_merge = pd.merge(train_data, campaign_data, how=\"inner\", on=\"campaign_id\")"
   ]
  },
  {
   "cell_type": "code",
   "execution_count": 21,
   "metadata": {},
   "outputs": [
    {
     "data": {
      "text/html": [
       "<div>\n",
       "<style scoped>\n",
       "    .dataframe tbody tr th:only-of-type {\n",
       "        vertical-align: middle;\n",
       "    }\n",
       "\n",
       "    .dataframe tbody tr th {\n",
       "        vertical-align: top;\n",
       "    }\n",
       "\n",
       "    .dataframe thead th {\n",
       "        text-align: right;\n",
       "    }\n",
       "</style>\n",
       "<table border=\"1\" class=\"dataframe\">\n",
       "  <thead>\n",
       "    <tr style=\"text-align: right;\">\n",
       "      <th></th>\n",
       "      <th>coupon_id</th>\n",
       "      <th>item_id</th>\n",
       "    </tr>\n",
       "  </thead>\n",
       "  <tbody>\n",
       "    <tr>\n",
       "      <th>0</th>\n",
       "      <td>105</td>\n",
       "      <td>37</td>\n",
       "    </tr>\n",
       "    <tr>\n",
       "      <th>1</th>\n",
       "      <td>107</td>\n",
       "      <td>75</td>\n",
       "    </tr>\n",
       "    <tr>\n",
       "      <th>2</th>\n",
       "      <td>494</td>\n",
       "      <td>76</td>\n",
       "    </tr>\n",
       "    <tr>\n",
       "      <th>3</th>\n",
       "      <td>522</td>\n",
       "      <td>77</td>\n",
       "    </tr>\n",
       "    <tr>\n",
       "      <th>4</th>\n",
       "      <td>518</td>\n",
       "      <td>77</td>\n",
       "    </tr>\n",
       "  </tbody>\n",
       "</table>\n",
       "</div>"
      ],
      "text/plain": [
       "   coupon_id  item_id\n",
       "0        105       37\n",
       "1        107       75\n",
       "2        494       76\n",
       "3        522       77\n",
       "4        518       77"
      ]
     },
     "execution_count": 21,
     "metadata": {},
     "output_type": "execute_result"
    }
   ],
   "source": [
    "coupon_item_mapping.head()"
   ]
  },
  {
   "cell_type": "code",
   "execution_count": 22,
   "metadata": {},
   "outputs": [
    {
     "data": {
      "text/html": [
       "<div>\n",
       "<style scoped>\n",
       "    .dataframe tbody tr th:only-of-type {\n",
       "        vertical-align: middle;\n",
       "    }\n",
       "\n",
       "    .dataframe tbody tr th {\n",
       "        vertical-align: top;\n",
       "    }\n",
       "\n",
       "    .dataframe thead th {\n",
       "        text-align: right;\n",
       "    }\n",
       "</style>\n",
       "<table border=\"1\" class=\"dataframe\">\n",
       "  <thead>\n",
       "    <tr style=\"text-align: right;\">\n",
       "      <th></th>\n",
       "      <th>item_id</th>\n",
       "      <th>brand</th>\n",
       "      <th>brand_type</th>\n",
       "      <th>category</th>\n",
       "    </tr>\n",
       "  </thead>\n",
       "  <tbody>\n",
       "    <tr>\n",
       "      <th>0</th>\n",
       "      <td>1</td>\n",
       "      <td>1</td>\n",
       "      <td>Established</td>\n",
       "      <td>Grocery</td>\n",
       "    </tr>\n",
       "    <tr>\n",
       "      <th>1</th>\n",
       "      <td>2</td>\n",
       "      <td>1</td>\n",
       "      <td>Established</td>\n",
       "      <td>Miscellaneous</td>\n",
       "    </tr>\n",
       "    <tr>\n",
       "      <th>2</th>\n",
       "      <td>3</td>\n",
       "      <td>56</td>\n",
       "      <td>Local</td>\n",
       "      <td>Bakery</td>\n",
       "    </tr>\n",
       "    <tr>\n",
       "      <th>3</th>\n",
       "      <td>4</td>\n",
       "      <td>56</td>\n",
       "      <td>Local</td>\n",
       "      <td>Grocery</td>\n",
       "    </tr>\n",
       "    <tr>\n",
       "      <th>4</th>\n",
       "      <td>5</td>\n",
       "      <td>56</td>\n",
       "      <td>Local</td>\n",
       "      <td>Grocery</td>\n",
       "    </tr>\n",
       "  </tbody>\n",
       "</table>\n",
       "</div>"
      ],
      "text/plain": [
       "   item_id  brand   brand_type       category\n",
       "0        1      1  Established        Grocery\n",
       "1        2      1  Established  Miscellaneous\n",
       "2        3     56        Local         Bakery\n",
       "3        4     56        Local        Grocery\n",
       "4        5     56        Local        Grocery"
      ]
     },
     "execution_count": 22,
     "metadata": {},
     "output_type": "execute_result"
    }
   ],
   "source": [
    "item_data.head()"
   ]
  },
  {
   "cell_type": "code",
   "execution_count": 23,
   "metadata": {},
   "outputs": [
    {
     "data": {
      "text/html": [
       "<div>\n",
       "<style scoped>\n",
       "    .dataframe tbody tr th:only-of-type {\n",
       "        vertical-align: middle;\n",
       "    }\n",
       "\n",
       "    .dataframe tbody tr th {\n",
       "        vertical-align: top;\n",
       "    }\n",
       "\n",
       "    .dataframe thead th {\n",
       "        text-align: right;\n",
       "    }\n",
       "</style>\n",
       "<table border=\"1\" class=\"dataframe\">\n",
       "  <thead>\n",
       "    <tr style=\"text-align: right;\">\n",
       "      <th></th>\n",
       "      <th>customer_id</th>\n",
       "      <th>age_range</th>\n",
       "      <th>marital_status</th>\n",
       "      <th>rented</th>\n",
       "      <th>family_size</th>\n",
       "      <th>no_of_children</th>\n",
       "      <th>income_bracket</th>\n",
       "    </tr>\n",
       "  </thead>\n",
       "  <tbody>\n",
       "    <tr>\n",
       "      <th>0</th>\n",
       "      <td>1</td>\n",
       "      <td>70+</td>\n",
       "      <td>Married</td>\n",
       "      <td>0</td>\n",
       "      <td>2</td>\n",
       "      <td>0</td>\n",
       "      <td>4</td>\n",
       "    </tr>\n",
       "    <tr>\n",
       "      <th>1</th>\n",
       "      <td>6</td>\n",
       "      <td>46-55</td>\n",
       "      <td>Married</td>\n",
       "      <td>0</td>\n",
       "      <td>2</td>\n",
       "      <td>0</td>\n",
       "      <td>5</td>\n",
       "    </tr>\n",
       "    <tr>\n",
       "      <th>2</th>\n",
       "      <td>7</td>\n",
       "      <td>26-35</td>\n",
       "      <td>Married</td>\n",
       "      <td>0</td>\n",
       "      <td>3</td>\n",
       "      <td>1</td>\n",
       "      <td>3</td>\n",
       "    </tr>\n",
       "    <tr>\n",
       "      <th>3</th>\n",
       "      <td>8</td>\n",
       "      <td>26-35</td>\n",
       "      <td>Married</td>\n",
       "      <td>0</td>\n",
       "      <td>4</td>\n",
       "      <td>2</td>\n",
       "      <td>6</td>\n",
       "    </tr>\n",
       "    <tr>\n",
       "      <th>4</th>\n",
       "      <td>10</td>\n",
       "      <td>46-55</td>\n",
       "      <td>Single</td>\n",
       "      <td>0</td>\n",
       "      <td>1</td>\n",
       "      <td>0</td>\n",
       "      <td>5</td>\n",
       "    </tr>\n",
       "  </tbody>\n",
       "</table>\n",
       "</div>"
      ],
      "text/plain": [
       "   customer_id age_range marital_status  rented family_size no_of_children  \\\n",
       "0            1       70+        Married       0           2              0   \n",
       "1            6     46-55        Married       0           2              0   \n",
       "2            7     26-35        Married       0           3              1   \n",
       "3            8     26-35        Married       0           4              2   \n",
       "4           10     46-55         Single       0           1              0   \n",
       "\n",
       "   income_bracket  \n",
       "0               4  \n",
       "1               5  \n",
       "2               3  \n",
       "3               6  \n",
       "4               5  "
      ]
     },
     "execution_count": 23,
     "metadata": {},
     "output_type": "execute_result"
    }
   ],
   "source": [
    "cust_demo_data.head()"
   ]
  },
  {
   "cell_type": "code",
   "execution_count": 24,
   "metadata": {},
   "outputs": [
    {
     "data": {
      "text/html": [
       "<div>\n",
       "<style scoped>\n",
       "    .dataframe tbody tr th:only-of-type {\n",
       "        vertical-align: middle;\n",
       "    }\n",
       "\n",
       "    .dataframe tbody tr th {\n",
       "        vertical-align: top;\n",
       "    }\n",
       "\n",
       "    .dataframe thead th {\n",
       "        text-align: right;\n",
       "    }\n",
       "</style>\n",
       "<table border=\"1\" class=\"dataframe\">\n",
       "  <thead>\n",
       "    <tr style=\"text-align: right;\">\n",
       "      <th></th>\n",
       "      <th>id</th>\n",
       "      <th>campaign_id</th>\n",
       "      <th>coupon_id</th>\n",
       "      <th>customer_id</th>\n",
       "      <th>redemption_status</th>\n",
       "      <th>campaign_type</th>\n",
       "      <th>start_date</th>\n",
       "      <th>end_date</th>\n",
       "    </tr>\n",
       "  </thead>\n",
       "  <tbody>\n",
       "    <tr>\n",
       "      <th>0</th>\n",
       "      <td>1</td>\n",
       "      <td>13</td>\n",
       "      <td>27</td>\n",
       "      <td>1053</td>\n",
       "      <td>0</td>\n",
       "      <td>X</td>\n",
       "      <td>19/05/13</td>\n",
       "      <td>05/07/13</td>\n",
       "    </tr>\n",
       "    <tr>\n",
       "      <th>1</th>\n",
       "      <td>2</td>\n",
       "      <td>13</td>\n",
       "      <td>116</td>\n",
       "      <td>48</td>\n",
       "      <td>0</td>\n",
       "      <td>X</td>\n",
       "      <td>19/05/13</td>\n",
       "      <td>05/07/13</td>\n",
       "    </tr>\n",
       "    <tr>\n",
       "      <th>2</th>\n",
       "      <td>7</td>\n",
       "      <td>13</td>\n",
       "      <td>644</td>\n",
       "      <td>1050</td>\n",
       "      <td>0</td>\n",
       "      <td>X</td>\n",
       "      <td>19/05/13</td>\n",
       "      <td>05/07/13</td>\n",
       "    </tr>\n",
       "    <tr>\n",
       "      <th>3</th>\n",
       "      <td>21</td>\n",
       "      <td>13</td>\n",
       "      <td>1028</td>\n",
       "      <td>89</td>\n",
       "      <td>0</td>\n",
       "      <td>X</td>\n",
       "      <td>19/05/13</td>\n",
       "      <td>05/07/13</td>\n",
       "    </tr>\n",
       "    <tr>\n",
       "      <th>4</th>\n",
       "      <td>23</td>\n",
       "      <td>13</td>\n",
       "      <td>517</td>\n",
       "      <td>1067</td>\n",
       "      <td>0</td>\n",
       "      <td>X</td>\n",
       "      <td>19/05/13</td>\n",
       "      <td>05/07/13</td>\n",
       "    </tr>\n",
       "  </tbody>\n",
       "</table>\n",
       "</div>"
      ],
      "text/plain": [
       "   id  campaign_id  coupon_id  customer_id  redemption_status campaign_type  \\\n",
       "0   1           13         27         1053                  0             X   \n",
       "1   2           13        116           48                  0             X   \n",
       "2   7           13        644         1050                  0             X   \n",
       "3  21           13       1028           89                  0             X   \n",
       "4  23           13        517         1067                  0             X   \n",
       "\n",
       "  start_date  end_date  \n",
       "0   19/05/13  05/07/13  \n",
       "1   19/05/13  05/07/13  \n",
       "2   19/05/13  05/07/13  \n",
       "3   19/05/13  05/07/13  \n",
       "4   19/05/13  05/07/13  "
      ]
     },
     "execution_count": 24,
     "metadata": {},
     "output_type": "execute_result"
    }
   ],
   "source": [
    "train_data_merge.head()"
   ]
  },
  {
   "cell_type": "code",
   "execution_count": 25,
   "metadata": {},
   "outputs": [],
   "source": [
    "train_data_merge = pd.merge(train_data_merge, coupon_item_mapping, how=\"inner\", on=\"coupon_id\")"
   ]
  },
  {
   "cell_type": "code",
   "execution_count": 26,
   "metadata": {},
   "outputs": [],
   "source": [
    "train_data_merge = pd.merge(train_data_merge, item_data, how=\"inner\", on=\"item_id\")"
   ]
  },
  {
   "cell_type": "code",
   "execution_count": 27,
   "metadata": {},
   "outputs": [],
   "source": [
    "train_data_merge = pd.merge(train_data_merge, cust_demo_data, how=\"inner\", on=\"customer_id\")"
   ]
  },
  {
   "cell_type": "code",
   "execution_count": 28,
   "metadata": {},
   "outputs": [
    {
     "data": {
      "text/html": [
       "<div>\n",
       "<style scoped>\n",
       "    .dataframe tbody tr th:only-of-type {\n",
       "        vertical-align: middle;\n",
       "    }\n",
       "\n",
       "    .dataframe tbody tr th {\n",
       "        vertical-align: top;\n",
       "    }\n",
       "\n",
       "    .dataframe thead th {\n",
       "        text-align: right;\n",
       "    }\n",
       "</style>\n",
       "<table border=\"1\" class=\"dataframe\">\n",
       "  <thead>\n",
       "    <tr style=\"text-align: right;\">\n",
       "      <th></th>\n",
       "      <th>id</th>\n",
       "      <th>campaign_id</th>\n",
       "      <th>coupon_id</th>\n",
       "      <th>customer_id</th>\n",
       "      <th>redemption_status</th>\n",
       "      <th>campaign_type</th>\n",
       "      <th>start_date</th>\n",
       "      <th>end_date</th>\n",
       "      <th>item_id</th>\n",
       "      <th>brand</th>\n",
       "      <th>brand_type</th>\n",
       "      <th>category</th>\n",
       "      <th>age_range</th>\n",
       "      <th>marital_status</th>\n",
       "      <th>rented</th>\n",
       "      <th>family_size</th>\n",
       "      <th>no_of_children</th>\n",
       "      <th>income_bracket</th>\n",
       "    </tr>\n",
       "  </thead>\n",
       "  <tbody>\n",
       "    <tr>\n",
       "      <th>0</th>\n",
       "      <td>1</td>\n",
       "      <td>13</td>\n",
       "      <td>27</td>\n",
       "      <td>1053</td>\n",
       "      <td>0</td>\n",
       "      <td>X</td>\n",
       "      <td>19/05/13</td>\n",
       "      <td>05/07/13</td>\n",
       "      <td>24775</td>\n",
       "      <td>1636</td>\n",
       "      <td>Established</td>\n",
       "      <td>Grocery</td>\n",
       "      <td>46-55</td>\n",
       "      <td>Single</td>\n",
       "      <td>0</td>\n",
       "      <td>1</td>\n",
       "      <td>0</td>\n",
       "      <td>5</td>\n",
       "    </tr>\n",
       "    <tr>\n",
       "      <th>1</th>\n",
       "      <td>68170</td>\n",
       "      <td>13</td>\n",
       "      <td>22</td>\n",
       "      <td>1053</td>\n",
       "      <td>0</td>\n",
       "      <td>X</td>\n",
       "      <td>19/05/13</td>\n",
       "      <td>05/07/13</td>\n",
       "      <td>24775</td>\n",
       "      <td>1636</td>\n",
       "      <td>Established</td>\n",
       "      <td>Grocery</td>\n",
       "      <td>46-55</td>\n",
       "      <td>Single</td>\n",
       "      <td>0</td>\n",
       "      <td>1</td>\n",
       "      <td>0</td>\n",
       "      <td>5</td>\n",
       "    </tr>\n",
       "    <tr>\n",
       "      <th>2</th>\n",
       "      <td>1</td>\n",
       "      <td>13</td>\n",
       "      <td>27</td>\n",
       "      <td>1053</td>\n",
       "      <td>0</td>\n",
       "      <td>X</td>\n",
       "      <td>19/05/13</td>\n",
       "      <td>05/07/13</td>\n",
       "      <td>14958</td>\n",
       "      <td>1636</td>\n",
       "      <td>Established</td>\n",
       "      <td>Grocery</td>\n",
       "      <td>46-55</td>\n",
       "      <td>Single</td>\n",
       "      <td>0</td>\n",
       "      <td>1</td>\n",
       "      <td>0</td>\n",
       "      <td>5</td>\n",
       "    </tr>\n",
       "    <tr>\n",
       "      <th>3</th>\n",
       "      <td>68170</td>\n",
       "      <td>13</td>\n",
       "      <td>22</td>\n",
       "      <td>1053</td>\n",
       "      <td>0</td>\n",
       "      <td>X</td>\n",
       "      <td>19/05/13</td>\n",
       "      <td>05/07/13</td>\n",
       "      <td>14958</td>\n",
       "      <td>1636</td>\n",
       "      <td>Established</td>\n",
       "      <td>Grocery</td>\n",
       "      <td>46-55</td>\n",
       "      <td>Single</td>\n",
       "      <td>0</td>\n",
       "      <td>1</td>\n",
       "      <td>0</td>\n",
       "      <td>5</td>\n",
       "    </tr>\n",
       "    <tr>\n",
       "      <th>4</th>\n",
       "      <td>1</td>\n",
       "      <td>13</td>\n",
       "      <td>27</td>\n",
       "      <td>1053</td>\n",
       "      <td>0</td>\n",
       "      <td>X</td>\n",
       "      <td>19/05/13</td>\n",
       "      <td>05/07/13</td>\n",
       "      <td>40431</td>\n",
       "      <td>1636</td>\n",
       "      <td>Established</td>\n",
       "      <td>Grocery</td>\n",
       "      <td>46-55</td>\n",
       "      <td>Single</td>\n",
       "      <td>0</td>\n",
       "      <td>1</td>\n",
       "      <td>0</td>\n",
       "      <td>5</td>\n",
       "    </tr>\n",
       "  </tbody>\n",
       "</table>\n",
       "</div>"
      ],
      "text/plain": [
       "      id  campaign_id  coupon_id  customer_id  redemption_status  \\\n",
       "0      1           13         27         1053                  0   \n",
       "1  68170           13         22         1053                  0   \n",
       "2      1           13         27         1053                  0   \n",
       "3  68170           13         22         1053                  0   \n",
       "4      1           13         27         1053                  0   \n",
       "\n",
       "  campaign_type start_date  end_date  item_id  brand   brand_type category  \\\n",
       "0             X   19/05/13  05/07/13    24775   1636  Established  Grocery   \n",
       "1             X   19/05/13  05/07/13    24775   1636  Established  Grocery   \n",
       "2             X   19/05/13  05/07/13    14958   1636  Established  Grocery   \n",
       "3             X   19/05/13  05/07/13    14958   1636  Established  Grocery   \n",
       "4             X   19/05/13  05/07/13    40431   1636  Established  Grocery   \n",
       "\n",
       "  age_range marital_status  rented family_size no_of_children  income_bracket  \n",
       "0     46-55         Single       0           1              0               5  \n",
       "1     46-55         Single       0           1              0               5  \n",
       "2     46-55         Single       0           1              0               5  \n",
       "3     46-55         Single       0           1              0               5  \n",
       "4     46-55         Single       0           1              0               5  "
      ]
     },
     "execution_count": 28,
     "metadata": {},
     "output_type": "execute_result"
    }
   ],
   "source": [
    "train_data_merge.head()"
   ]
  },
  {
   "cell_type": "code",
   "execution_count": 29,
   "metadata": {},
   "outputs": [
    {
     "data": {
      "text/plain": [
       "array([     1,     13,     27, ...,  80567, 117816,  18819], dtype=int64)"
      ]
     },
     "execution_count": 29,
     "metadata": {},
     "output_type": "execute_result"
    }
   ],
   "source": [
    "pd.unique(train_data_merge[['id', 'campaign_id', 'coupon_id', 'customer_id', 'redemption_status', 'item_id']].values.ravel())"
   ]
  },
  {
   "cell_type": "code",
   "execution_count": 30,
   "metadata": {},
   "outputs": [
    {
     "data": {
      "text/plain": [
       "id                   3807856\n",
       "campaign_id          3807856\n",
       "coupon_id            3807856\n",
       "customer_id          3807856\n",
       "redemption_status    3807856\n",
       "campaign_type        3807856\n",
       "start_date           3807856\n",
       "end_date             3807856\n",
       "item_id              3807856\n",
       "brand                3807856\n",
       "brand_type           3807856\n",
       "category             3807856\n",
       "age_range            3807856\n",
       "marital_status       3807856\n",
       "rented               3807856\n",
       "family_size          3807856\n",
       "no_of_children       3807856\n",
       "income_bracket       3807856\n",
       "dtype: int64"
      ]
     },
     "execution_count": 30,
     "metadata": {},
     "output_type": "execute_result"
    }
   ],
   "source": [
    "train_data_merge.count()"
   ]
  },
  {
   "cell_type": "code",
   "execution_count": 31,
   "metadata": {},
   "outputs": [],
   "source": [
    "train_data_merge.drop_duplicates(keep=\"first\", inplace=True)"
   ]
  },
  {
   "cell_type": "code",
   "execution_count": 32,
   "metadata": {},
   "outputs": [
    {
     "data": {
      "text/plain": [
       "id                   3807856\n",
       "campaign_id          3807856\n",
       "coupon_id            3807856\n",
       "customer_id          3807856\n",
       "redemption_status    3807856\n",
       "campaign_type        3807856\n",
       "start_date           3807856\n",
       "end_date             3807856\n",
       "item_id              3807856\n",
       "brand                3807856\n",
       "brand_type           3807856\n",
       "category             3807856\n",
       "age_range            3807856\n",
       "marital_status       3807856\n",
       "rented               3807856\n",
       "family_size          3807856\n",
       "no_of_children       3807856\n",
       "income_bracket       3807856\n",
       "dtype: int64"
      ]
     },
     "execution_count": 32,
     "metadata": {},
     "output_type": "execute_result"
    }
   ],
   "source": [
    "train_data_merge.count()"
   ]
  },
  {
   "cell_type": "code",
   "execution_count": 33,
   "metadata": {},
   "outputs": [
    {
     "data": {
      "text/html": [
       "<div>\n",
       "<style scoped>\n",
       "    .dataframe tbody tr th:only-of-type {\n",
       "        vertical-align: middle;\n",
       "    }\n",
       "\n",
       "    .dataframe tbody tr th {\n",
       "        vertical-align: top;\n",
       "    }\n",
       "\n",
       "    .dataframe thead th {\n",
       "        text-align: right;\n",
       "    }\n",
       "</style>\n",
       "<table border=\"1\" class=\"dataframe\">\n",
       "  <thead>\n",
       "    <tr style=\"text-align: right;\">\n",
       "      <th></th>\n",
       "      <th>date</th>\n",
       "      <th>customer_id</th>\n",
       "      <th>item_id</th>\n",
       "      <th>quantity</th>\n",
       "      <th>selling_price</th>\n",
       "      <th>other_discount</th>\n",
       "      <th>coupon_discount</th>\n",
       "    </tr>\n",
       "  </thead>\n",
       "  <tbody>\n",
       "    <tr>\n",
       "      <th>0</th>\n",
       "      <td>2012-01-02</td>\n",
       "      <td>1501</td>\n",
       "      <td>26830</td>\n",
       "      <td>1</td>\n",
       "      <td>35.26</td>\n",
       "      <td>-10.69</td>\n",
       "      <td>0.0</td>\n",
       "    </tr>\n",
       "    <tr>\n",
       "      <th>1</th>\n",
       "      <td>2012-01-02</td>\n",
       "      <td>1501</td>\n",
       "      <td>54253</td>\n",
       "      <td>1</td>\n",
       "      <td>53.43</td>\n",
       "      <td>-13.89</td>\n",
       "      <td>0.0</td>\n",
       "    </tr>\n",
       "    <tr>\n",
       "      <th>2</th>\n",
       "      <td>2012-01-02</td>\n",
       "      <td>1501</td>\n",
       "      <td>31962</td>\n",
       "      <td>1</td>\n",
       "      <td>106.50</td>\n",
       "      <td>-14.25</td>\n",
       "      <td>0.0</td>\n",
       "    </tr>\n",
       "    <tr>\n",
       "      <th>3</th>\n",
       "      <td>2012-01-02</td>\n",
       "      <td>1501</td>\n",
       "      <td>33647</td>\n",
       "      <td>1</td>\n",
       "      <td>67.32</td>\n",
       "      <td>0.00</td>\n",
       "      <td>0.0</td>\n",
       "    </tr>\n",
       "    <tr>\n",
       "      <th>4</th>\n",
       "      <td>2012-01-02</td>\n",
       "      <td>1501</td>\n",
       "      <td>48199</td>\n",
       "      <td>1</td>\n",
       "      <td>71.24</td>\n",
       "      <td>-28.14</td>\n",
       "      <td>0.0</td>\n",
       "    </tr>\n",
       "  </tbody>\n",
       "</table>\n",
       "</div>"
      ],
      "text/plain": [
       "         date  customer_id  item_id  quantity  selling_price  other_discount  \\\n",
       "0  2012-01-02         1501    26830         1          35.26          -10.69   \n",
       "1  2012-01-02         1501    54253         1          53.43          -13.89   \n",
       "2  2012-01-02         1501    31962         1         106.50          -14.25   \n",
       "3  2012-01-02         1501    33647         1          67.32            0.00   \n",
       "4  2012-01-02         1501    48199         1          71.24          -28.14   \n",
       "\n",
       "   coupon_discount  \n",
       "0              0.0  \n",
       "1              0.0  \n",
       "2              0.0  \n",
       "3              0.0  \n",
       "4              0.0  "
      ]
     },
     "execution_count": 33,
     "metadata": {},
     "output_type": "execute_result"
    }
   ],
   "source": [
    "customer_transaction_data.head()"
   ]
  },
  {
   "cell_type": "code",
   "execution_count": 34,
   "metadata": {},
   "outputs": [],
   "source": [
    "train_data_merge = pd.merge(train_data_merge, customer_transaction_data, how=\"left\", on=['customer_id', 'item_id'])"
   ]
  },
  {
   "cell_type": "code",
   "execution_count": 35,
   "metadata": {},
   "outputs": [
    {
     "data": {
      "text/html": [
       "<div>\n",
       "<style scoped>\n",
       "    .dataframe tbody tr th:only-of-type {\n",
       "        vertical-align: middle;\n",
       "    }\n",
       "\n",
       "    .dataframe tbody tr th {\n",
       "        vertical-align: top;\n",
       "    }\n",
       "\n",
       "    .dataframe thead th {\n",
       "        text-align: right;\n",
       "    }\n",
       "</style>\n",
       "<table border=\"1\" class=\"dataframe\">\n",
       "  <thead>\n",
       "    <tr style=\"text-align: right;\">\n",
       "      <th></th>\n",
       "      <th>id</th>\n",
       "      <th>campaign_id</th>\n",
       "      <th>coupon_id</th>\n",
       "      <th>customer_id</th>\n",
       "      <th>redemption_status</th>\n",
       "      <th>campaign_type</th>\n",
       "      <th>start_date</th>\n",
       "      <th>end_date</th>\n",
       "      <th>item_id</th>\n",
       "      <th>brand</th>\n",
       "      <th>...</th>\n",
       "      <th>marital_status</th>\n",
       "      <th>rented</th>\n",
       "      <th>family_size</th>\n",
       "      <th>no_of_children</th>\n",
       "      <th>income_bracket</th>\n",
       "      <th>date</th>\n",
       "      <th>quantity</th>\n",
       "      <th>selling_price</th>\n",
       "      <th>other_discount</th>\n",
       "      <th>coupon_discount</th>\n",
       "    </tr>\n",
       "  </thead>\n",
       "  <tbody>\n",
       "    <tr>\n",
       "      <th>0</th>\n",
       "      <td>1</td>\n",
       "      <td>13</td>\n",
       "      <td>27</td>\n",
       "      <td>1053</td>\n",
       "      <td>0</td>\n",
       "      <td>X</td>\n",
       "      <td>19/05/13</td>\n",
       "      <td>05/07/13</td>\n",
       "      <td>24775</td>\n",
       "      <td>1636</td>\n",
       "      <td>...</td>\n",
       "      <td>Single</td>\n",
       "      <td>0</td>\n",
       "      <td>1</td>\n",
       "      <td>0</td>\n",
       "      <td>5</td>\n",
       "      <td>NaN</td>\n",
       "      <td>NaN</td>\n",
       "      <td>NaN</td>\n",
       "      <td>NaN</td>\n",
       "      <td>NaN</td>\n",
       "    </tr>\n",
       "    <tr>\n",
       "      <th>1</th>\n",
       "      <td>68170</td>\n",
       "      <td>13</td>\n",
       "      <td>22</td>\n",
       "      <td>1053</td>\n",
       "      <td>0</td>\n",
       "      <td>X</td>\n",
       "      <td>19/05/13</td>\n",
       "      <td>05/07/13</td>\n",
       "      <td>24775</td>\n",
       "      <td>1636</td>\n",
       "      <td>...</td>\n",
       "      <td>Single</td>\n",
       "      <td>0</td>\n",
       "      <td>1</td>\n",
       "      <td>0</td>\n",
       "      <td>5</td>\n",
       "      <td>NaN</td>\n",
       "      <td>NaN</td>\n",
       "      <td>NaN</td>\n",
       "      <td>NaN</td>\n",
       "      <td>NaN</td>\n",
       "    </tr>\n",
       "    <tr>\n",
       "      <th>2</th>\n",
       "      <td>1</td>\n",
       "      <td>13</td>\n",
       "      <td>27</td>\n",
       "      <td>1053</td>\n",
       "      <td>0</td>\n",
       "      <td>X</td>\n",
       "      <td>19/05/13</td>\n",
       "      <td>05/07/13</td>\n",
       "      <td>14958</td>\n",
       "      <td>1636</td>\n",
       "      <td>...</td>\n",
       "      <td>Single</td>\n",
       "      <td>0</td>\n",
       "      <td>1</td>\n",
       "      <td>0</td>\n",
       "      <td>5</td>\n",
       "      <td>NaN</td>\n",
       "      <td>NaN</td>\n",
       "      <td>NaN</td>\n",
       "      <td>NaN</td>\n",
       "      <td>NaN</td>\n",
       "    </tr>\n",
       "    <tr>\n",
       "      <th>3</th>\n",
       "      <td>68170</td>\n",
       "      <td>13</td>\n",
       "      <td>22</td>\n",
       "      <td>1053</td>\n",
       "      <td>0</td>\n",
       "      <td>X</td>\n",
       "      <td>19/05/13</td>\n",
       "      <td>05/07/13</td>\n",
       "      <td>14958</td>\n",
       "      <td>1636</td>\n",
       "      <td>...</td>\n",
       "      <td>Single</td>\n",
       "      <td>0</td>\n",
       "      <td>1</td>\n",
       "      <td>0</td>\n",
       "      <td>5</td>\n",
       "      <td>NaN</td>\n",
       "      <td>NaN</td>\n",
       "      <td>NaN</td>\n",
       "      <td>NaN</td>\n",
       "      <td>NaN</td>\n",
       "    </tr>\n",
       "    <tr>\n",
       "      <th>4</th>\n",
       "      <td>1</td>\n",
       "      <td>13</td>\n",
       "      <td>27</td>\n",
       "      <td>1053</td>\n",
       "      <td>0</td>\n",
       "      <td>X</td>\n",
       "      <td>19/05/13</td>\n",
       "      <td>05/07/13</td>\n",
       "      <td>40431</td>\n",
       "      <td>1636</td>\n",
       "      <td>...</td>\n",
       "      <td>Single</td>\n",
       "      <td>0</td>\n",
       "      <td>1</td>\n",
       "      <td>0</td>\n",
       "      <td>5</td>\n",
       "      <td>NaN</td>\n",
       "      <td>NaN</td>\n",
       "      <td>NaN</td>\n",
       "      <td>NaN</td>\n",
       "      <td>NaN</td>\n",
       "    </tr>\n",
       "  </tbody>\n",
       "</table>\n",
       "<p>5 rows × 23 columns</p>\n",
       "</div>"
      ],
      "text/plain": [
       "      id  campaign_id  coupon_id  customer_id  redemption_status  \\\n",
       "0      1           13         27         1053                  0   \n",
       "1  68170           13         22         1053                  0   \n",
       "2      1           13         27         1053                  0   \n",
       "3  68170           13         22         1053                  0   \n",
       "4      1           13         27         1053                  0   \n",
       "\n",
       "  campaign_type start_date  end_date  item_id  brand  ... marital_status  \\\n",
       "0             X   19/05/13  05/07/13    24775   1636  ...         Single   \n",
       "1             X   19/05/13  05/07/13    24775   1636  ...         Single   \n",
       "2             X   19/05/13  05/07/13    14958   1636  ...         Single   \n",
       "3             X   19/05/13  05/07/13    14958   1636  ...         Single   \n",
       "4             X   19/05/13  05/07/13    40431   1636  ...         Single   \n",
       "\n",
       "  rented family_size no_of_children  income_bracket date quantity  \\\n",
       "0      0           1              0               5  NaN      NaN   \n",
       "1      0           1              0               5  NaN      NaN   \n",
       "2      0           1              0               5  NaN      NaN   \n",
       "3      0           1              0               5  NaN      NaN   \n",
       "4      0           1              0               5  NaN      NaN   \n",
       "\n",
       "   selling_price other_discount  coupon_discount  \n",
       "0            NaN            NaN              NaN  \n",
       "1            NaN            NaN              NaN  \n",
       "2            NaN            NaN              NaN  \n",
       "3            NaN            NaN              NaN  \n",
       "4            NaN            NaN              NaN  \n",
       "\n",
       "[5 rows x 23 columns]"
      ]
     },
     "execution_count": 35,
     "metadata": {},
     "output_type": "execute_result"
    }
   ],
   "source": [
    "train_data_merge.head()"
   ]
  },
  {
   "cell_type": "code",
   "execution_count": 36,
   "metadata": {},
   "outputs": [],
   "source": [
    "train_data_merge.drop_duplicates(keep=\"first\", inplace=True)"
   ]
  },
  {
   "cell_type": "code",
   "execution_count": 37,
   "metadata": {},
   "outputs": [],
   "source": [
    "train_data_merge['quantity'].fillna(0, inplace=True)"
   ]
  },
  {
   "cell_type": "code",
   "execution_count": 38,
   "metadata": {},
   "outputs": [],
   "source": [
    "train_data_merge['other_discount'].fillna(0, inplace=True)"
   ]
  },
  {
   "cell_type": "code",
   "execution_count": 39,
   "metadata": {},
   "outputs": [],
   "source": [
    "train_data_merge['coupon_discount'].fillna(0, inplace=True)"
   ]
  },
  {
   "cell_type": "code",
   "execution_count": 40,
   "metadata": {},
   "outputs": [
    {
     "data": {
      "text/plain": [
       "Index(['id', 'campaign_id', 'coupon_id', 'customer_id', 'redemption_status',\n",
       "       'campaign_type', 'start_date', 'end_date', 'item_id', 'brand',\n",
       "       'brand_type', 'category', 'age_range', 'marital_status', 'rented',\n",
       "       'family_size', 'no_of_children', 'income_bracket', 'date', 'quantity',\n",
       "       'selling_price', 'other_discount', 'coupon_discount'],\n",
       "      dtype='object')"
      ]
     },
     "execution_count": 40,
     "metadata": {},
     "output_type": "execute_result"
    }
   ],
   "source": [
    "train_data_merge.columns"
   ]
  },
  {
   "cell_type": "code",
   "execution_count": 41,
   "metadata": {},
   "outputs": [],
   "source": [
    "columns = ['campaign_type','brand_type', 'category', 'quantity','other_discount', 'coupon_discount','marital_status',\n",
    "           'rented','income_bracket','age_range','brand']\n",
    "x_data = train_data_merge[columns]\n",
    "y_data = train_data_merge['redemption_status']"
   ]
  },
  {
   "cell_type": "code",
   "execution_count": 42,
   "metadata": {},
   "outputs": [
    {
     "data": {
      "text/plain": [
       "campaign_type      0\n",
       "brand_type         0\n",
       "category           0\n",
       "quantity           0\n",
       "other_discount     0\n",
       "coupon_discount    0\n",
       "marital_status     0\n",
       "rented             0\n",
       "income_bracket     0\n",
       "age_range          0\n",
       "brand              0\n",
       "dtype: int64"
      ]
     },
     "execution_count": 42,
     "metadata": {},
     "output_type": "execute_result"
    }
   ],
   "source": [
    "x_data.isnull().sum()"
   ]
  },
  {
   "cell_type": "code",
   "execution_count": 43,
   "metadata": {},
   "outputs": [
    {
     "name": "stdout",
     "output_type": "stream",
     "text": [
      "[ 0  1  2  6  7  8  9 10]\n"
     ]
    }
   ],
   "source": [
    "from catboost import CatBoostClassifier\n",
    "categorical_var = np.where(x_data.dtypes != np.float)[0]\n",
    "print(categorical_var)"
   ]
  },
  {
   "cell_type": "code",
   "execution_count": 44,
   "metadata": {},
   "outputs": [
    {
     "name": "stdout",
     "output_type": "stream",
     "text": [
      "0:\tlearn: 0.3353197\ttotal: 1.45s\tremaining: 1m 10s\n",
      "1:\tlearn: 0.2456362\ttotal: 2.58s\tremaining: 1m 2s\n",
      "2:\tlearn: 0.2116840\ttotal: 3.42s\tremaining: 53.7s\n",
      "3:\tlearn: 0.1975750\ttotal: 4.38s\tremaining: 50.4s\n",
      "4:\tlearn: 0.1908802\ttotal: 5.39s\tremaining: 48.5s\n",
      "5:\tlearn: 0.1824292\ttotal: 6.54s\tremaining: 48s\n",
      "6:\tlearn: 0.1777466\ttotal: 7.58s\tremaining: 46.5s\n",
      "7:\tlearn: 0.1715932\ttotal: 8.59s\tremaining: 45.1s\n",
      "8:\tlearn: 0.1688158\ttotal: 9.62s\tremaining: 43.8s\n",
      "9:\tlearn: 0.1652166\ttotal: 10.4s\tremaining: 41.8s\n",
      "10:\tlearn: 0.1643858\ttotal: 11.2s\tremaining: 39.8s\n",
      "11:\tlearn: 0.1632214\ttotal: 12s\tremaining: 38s\n",
      "12:\tlearn: 0.1627313\ttotal: 12.8s\tremaining: 36.4s\n",
      "13:\tlearn: 0.1609755\ttotal: 13.6s\tremaining: 34.9s\n",
      "14:\tlearn: 0.1594347\ttotal: 14.4s\tremaining: 33.6s\n",
      "15:\tlearn: 0.1589771\ttotal: 15.2s\tremaining: 32.3s\n",
      "16:\tlearn: 0.1586836\ttotal: 16s\tremaining: 31s\n",
      "17:\tlearn: 0.1583957\ttotal: 16.7s\tremaining: 29.8s\n",
      "18:\tlearn: 0.1580121\ttotal: 17.5s\tremaining: 28.6s\n",
      "19:\tlearn: 0.1567318\ttotal: 18.4s\tremaining: 27.6s\n",
      "20:\tlearn: 0.1556129\ttotal: 19.2s\tremaining: 26.5s\n",
      "21:\tlearn: 0.1542404\ttotal: 20.1s\tremaining: 25.6s\n",
      "22:\tlearn: 0.1541755\ttotal: 21.2s\tremaining: 24.9s\n",
      "23:\tlearn: 0.1537082\ttotal: 22.4s\tremaining: 24.2s\n",
      "24:\tlearn: 0.1531614\ttotal: 23.4s\tremaining: 23.4s\n",
      "25:\tlearn: 0.1527662\ttotal: 24.3s\tremaining: 22.5s\n",
      "26:\tlearn: 0.1517292\ttotal: 25.3s\tremaining: 21.6s\n",
      "27:\tlearn: 0.1503106\ttotal: 26.2s\tremaining: 20.6s\n",
      "28:\tlearn: 0.1499422\ttotal: 27s\tremaining: 19.5s\n",
      "29:\tlearn: 0.1489246\ttotal: 27.8s\tremaining: 18.5s\n",
      "30:\tlearn: 0.1486953\ttotal: 28.6s\tremaining: 17.6s\n",
      "31:\tlearn: 0.1481663\ttotal: 29.5s\tremaining: 16.6s\n",
      "32:\tlearn: 0.1480008\ttotal: 30.3s\tremaining: 15.6s\n",
      "33:\tlearn: 0.1478139\ttotal: 31.1s\tremaining: 14.6s\n",
      "34:\tlearn: 0.1474736\ttotal: 31.9s\tremaining: 13.7s\n",
      "35:\tlearn: 0.1471854\ttotal: 32.7s\tremaining: 12.7s\n",
      "36:\tlearn: 0.1467047\ttotal: 33.5s\tremaining: 11.8s\n",
      "37:\tlearn: 0.1466031\ttotal: 34.3s\tremaining: 10.8s\n",
      "38:\tlearn: 0.1458966\ttotal: 35.1s\tremaining: 9.89s\n",
      "39:\tlearn: 0.1456405\ttotal: 35.9s\tremaining: 8.97s\n",
      "40:\tlearn: 0.1454485\ttotal: 36.9s\tremaining: 8.1s\n",
      "41:\tlearn: 0.1454152\ttotal: 37.8s\tremaining: 7.21s\n",
      "42:\tlearn: 0.1449571\ttotal: 38.9s\tremaining: 6.33s\n",
      "43:\tlearn: 0.1448457\ttotal: 39.9s\tremaining: 5.44s\n",
      "44:\tlearn: 0.1447313\ttotal: 40.9s\tremaining: 4.54s\n",
      "45:\tlearn: 0.1446921\ttotal: 41.8s\tremaining: 3.63s\n",
      "46:\tlearn: 0.1444994\ttotal: 42.7s\tremaining: 2.73s\n",
      "47:\tlearn: 0.1444772\ttotal: 43.5s\tremaining: 1.81s\n",
      "48:\tlearn: 0.1444476\ttotal: 44.3s\tremaining: 904ms\n",
      "49:\tlearn: 0.1444012\ttotal: 45.1s\tremaining: 0us\n"
     ]
    },
    {
     "data": {
      "text/plain": [
       "<catboost.core.CatBoostClassifier at 0x23c501626a0>"
      ]
     },
     "execution_count": 44,
     "metadata": {},
     "output_type": "execute_result"
    }
   ],
   "source": [
    "cat_model = CatBoostClassifier(iterations=50, learning_rate=0.7)\n",
    "cat_model.fit(x_data, y_data, cat_features=categorical_var, plot=False)"
   ]
  },
  {
   "cell_type": "code",
   "execution_count": 45,
   "metadata": {},
   "outputs": [
    {
     "name": "stdout",
     "output_type": "stream",
     "text": [
      "[[3561908   18441]\n",
      " [ 219003   53958]]\n",
      "Accuracy: 0.9383792116388248\n"
     ]
    }
   ],
   "source": [
    "y_pred = cat_model.predict(x_data)\n",
    "from sklearn.metrics import confusion_matrix, accuracy_score\n",
    "confusion_matrix = confusion_matrix(y_data, y_pred)\n",
    "print(confusion_matrix)\n",
    "print(\"Accuracy:\", accuracy_score(y_data, y_pred))"
   ]
  },
  {
   "cell_type": "code",
   "execution_count": null,
   "metadata": {},
   "outputs": [],
   "source": []
  }
 ],
 "metadata": {
  "kernelspec": {
   "display_name": "Python 3",
   "language": "python",
   "name": "python3"
  },
  "language_info": {
   "codemirror_mode": {
    "name": "ipython",
    "version": 3
   },
   "file_extension": ".py",
   "mimetype": "text/x-python",
   "name": "python",
   "nbconvert_exporter": "python",
   "pygments_lexer": "ipython3",
   "version": "3.7.1"
  }
 },
 "nbformat": 4,
 "nbformat_minor": 2
}
