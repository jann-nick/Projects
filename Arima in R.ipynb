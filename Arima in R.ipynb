{
 "cells": [
  {
   "cell_type": "code",
   "execution_count": 1,
   "metadata": {},
   "outputs": [
    {
     "name": "stderr",
     "output_type": "stream",
     "text": [
      "also installing the dependencies 'reshape', 'checkmate', 'magick', 'pander', 'pryr', 'rapportools'\n",
      "\n"
     ]
    },
    {
     "name": "stdout",
     "output_type": "stream",
     "text": [
      "package 'reshape' successfully unpacked and MD5 sums checked\n",
      "package 'checkmate' successfully unpacked and MD5 sums checked\n",
      "package 'magick' successfully unpacked and MD5 sums checked\n",
      "package 'pander' successfully unpacked and MD5 sums checked\n",
      "package 'pryr' successfully unpacked and MD5 sums checked\n",
      "package 'rapportools' successfully unpacked and MD5 sums checked\n",
      "package 'summarytools' successfully unpacked and MD5 sums checked\n",
      "\n",
      "The downloaded binary packages are in\n",
      "\tC:\\Users\\11031\\AppData\\Local\\Temp\\RtmpukYzpt\\downloaded_packages\n",
      "package 'tseries' successfully unpacked and MD5 sums checked\n",
      "\n",
      "The downloaded binary packages are in\n",
      "\tC:\\Users\\11031\\AppData\\Local\\Temp\\RtmpukYzpt\\downloaded_packages\n"
     ]
    },
    {
     "name": "stderr",
     "output_type": "stream",
     "text": [
      "also installing the dependencies 'fracdiff', 'urca', 'RcppArmadillo'\n",
      "\n"
     ]
    },
    {
     "name": "stdout",
     "output_type": "stream",
     "text": [
      "package 'fracdiff' successfully unpacked and MD5 sums checked\n",
      "package 'urca' successfully unpacked and MD5 sums checked\n",
      "package 'RcppArmadillo' successfully unpacked and MD5 sums checked\n",
      "package 'forecast' successfully unpacked and MD5 sums checked\n",
      "\n",
      "The downloaded binary packages are in\n",
      "\tC:\\Users\\11031\\AppData\\Local\\Temp\\RtmpukYzpt\\downloaded_packages\n"
     ]
    }
   ],
   "source": [
    "install.packages(\"summarytools\")\n",
    "install.packages(\"tseries\")\n",
    "install.packages(\"forecast\")"
   ]
  },
  {
   "cell_type": "code",
   "execution_count": 2,
   "metadata": {},
   "outputs": [
    {
     "name": "stderr",
     "output_type": "stream",
     "text": [
      "Warning message:\n",
      "\"package 'forecast' was built under R version 3.6.2\"Registered S3 methods overwritten by 'ggplot2':\n",
      "  method         from \n",
      "  [.quosures     rlang\n",
      "  c.quosures     rlang\n",
      "  print.quosures rlang\n",
      "Registered S3 method overwritten by 'xts':\n",
      "  method     from\n",
      "  as.zoo.xts zoo \n",
      "Registered S3 method overwritten by 'quantmod':\n",
      "  method            from\n",
      "  as.zoo.data.frame zoo \n",
      "Registered S3 methods overwritten by 'forecast':\n",
      "  method             from    \n",
      "  fitted.fracdiff    fracdiff\n",
      "  residuals.fracdiff fracdiff\n",
      "Warning message:\n",
      "\"package 'tseries' was built under R version 3.6.2\"Warning message:\n",
      "\"package 'summarytools' was built under R version 3.6.2\"Registered S3 method overwritten by 'pryr':\n",
      "  method      from\n",
      "  print.bytes Rcpp\n"
     ]
    }
   ],
   "source": [
    "library(forecast)\n",
    "library(ggplot2)\n",
    "library(tseries)\n",
    "library(summarytools)"
   ]
  },
  {
   "cell_type": "code",
   "execution_count": 3,
   "metadata": {},
   "outputs": [],
   "source": [
    "data(\"AirPassengers\")"
   ]
  },
  {
   "cell_type": "code",
   "execution_count": 4,
   "metadata": {},
   "outputs": [],
   "source": [
    "tsdata = AirPassengers"
   ]
  },
  {
   "cell_type": "code",
   "execution_count": 5,
   "metadata": {},
   "outputs": [
    {
     "data": {
      "text/html": [
       "'ts'"
      ],
      "text/latex": [
       "'ts'"
      ],
      "text/markdown": [
       "'ts'"
      ],
      "text/plain": [
       "[1] \"ts\""
      ]
     },
     "metadata": {},
     "output_type": "display_data"
    }
   ],
   "source": [
    "class(tsdata)"
   ]
  },
  {
   "cell_type": "code",
   "execution_count": 9,
   "metadata": {
    "collapsed": true
   },
   "outputs": [
    {
     "name": "stderr",
     "output_type": "stream",
     "text": [
      "ERROR while rich displaying an object: Error in repr_matrix_generic(obj, \"\\n%s%s\\n\", sprintf(\"|%%s\\n|%s|\\n\", : formal argument \"cols\" matched by multiple actual arguments\n",
      "\n",
      "Traceback:\n",
      "1. FUN(X[[i]], ...)\n",
      "2. tryCatch(withCallingHandlers({\n",
      " .     if (!mime %in% names(repr::mime2repr)) \n",
      " .         stop(\"No repr_* for mimetype \", mime, \" in repr::mime2repr\")\n",
      " .     rpr <- repr::mime2repr[[mime]](obj)\n",
      " .     if (is.null(rpr)) \n",
      " .         return(NULL)\n",
      " .     prepare_content(is.raw(rpr), rpr)\n",
      " . }, error = error_handler), error = outer_handler)\n",
      "3. tryCatchList(expr, classes, parentenv, handlers)\n",
      "4. tryCatchOne(expr, names, parentenv, handlers[[1L]])\n",
      "5. doTryCatch(return(expr), name, parentenv, handler)\n",
      "6. withCallingHandlers({\n",
      " .     if (!mime %in% names(repr::mime2repr)) \n",
      " .         stop(\"No repr_* for mimetype \", mime, \" in repr::mime2repr\")\n",
      " .     rpr <- repr::mime2repr[[mime]](obj)\n",
      " .     if (is.null(rpr)) \n",
      " .         return(NULL)\n",
      " .     prepare_content(is.raw(rpr), rpr)\n",
      " . }, error = error_handler)\n",
      "7. repr::mime2repr[[mime]](obj)\n",
      "8. repr_markdown.ts(obj)\n",
      "9. repr_ts_generic(obj, repr_markdown.matrix, ...)\n",
      "10. repr_func(m, ..., rows = nrow(m), cols = ncol(m))\n"
     ]
    },
    {
     "data": {
      "text/html": [
       "<table>\n",
       "<thead><tr><th></th><th scope=col>Jan</th><th scope=col>Feb</th><th scope=col>Mar</th><th scope=col>Apr</th><th scope=col>May</th><th scope=col>Jun</th><th scope=col>Jul</th><th scope=col>Aug</th><th scope=col>Sep</th><th scope=col>Oct</th><th scope=col>Nov</th><th scope=col>Dec</th></tr></thead>\n",
       "<tbody>\n",
       "\t<tr><th scope=row>1949</th><td>112</td><td>118</td><td>132</td><td>129</td><td>121</td><td>135</td><td>148</td><td>148</td><td>136</td><td>119</td><td>104</td><td>118</td></tr>\n",
       "\t<tr><th scope=row>1950</th><td>115</td><td>126</td><td>141</td><td>135</td><td>125</td><td>149</td><td>170</td><td>170</td><td>158</td><td>133</td><td>114</td><td>140</td></tr>\n",
       "\t<tr><th scope=row>1951</th><td>145</td><td>150</td><td>178</td><td>163</td><td>172</td><td>178</td><td>199</td><td>199</td><td>184</td><td>162</td><td>146</td><td>166</td></tr>\n",
       "\t<tr><th scope=row>1952</th><td>171</td><td>180</td><td>193</td><td>181</td><td>183</td><td>218</td><td>230</td><td>242</td><td>209</td><td>191</td><td>172</td><td>194</td></tr>\n",
       "\t<tr><th scope=row>1953</th><td>196</td><td>196</td><td>236</td><td>235</td><td>229</td><td>243</td><td>264</td><td>272</td><td>237</td><td>211</td><td>180</td><td>201</td></tr>\n",
       "\t<tr><th scope=row>1954</th><td>204</td><td>188</td><td>235</td><td>227</td><td>234</td><td>264</td><td>302</td><td>293</td><td>259</td><td>229</td><td>203</td><td>229</td></tr>\n",
       "\t<tr><th scope=row>1955</th><td>242</td><td>233</td><td>267</td><td>269</td><td>270</td><td>315</td><td>364</td><td>347</td><td>312</td><td>274</td><td>237</td><td>278</td></tr>\n",
       "\t<tr><th scope=row>1956</th><td>284</td><td>277</td><td>317</td><td>313</td><td>318</td><td>374</td><td>413</td><td>405</td><td>355</td><td>306</td><td>271</td><td>306</td></tr>\n",
       "\t<tr><th scope=row>1957</th><td>315</td><td>301</td><td>356</td><td>348</td><td>355</td><td>422</td><td>465</td><td>467</td><td>404</td><td>347</td><td>305</td><td>336</td></tr>\n",
       "\t<tr><th scope=row>1958</th><td>340</td><td>318</td><td>362</td><td>348</td><td>363</td><td>435</td><td>491</td><td>505</td><td>404</td><td>359</td><td>310</td><td>337</td></tr>\n",
       "\t<tr><th scope=row>1959</th><td>360</td><td>342</td><td>406</td><td>396</td><td>420</td><td>472</td><td>548</td><td>559</td><td>463</td><td>407</td><td>362</td><td>405</td></tr>\n",
       "\t<tr><th scope=row>1960</th><td>417</td><td>391</td><td>419</td><td>461</td><td>472</td><td>535</td><td>622</td><td>606</td><td>508</td><td>461</td><td>390</td><td>432</td></tr>\n",
       "</tbody>\n",
       "</table>\n"
      ],
      "text/latex": [
       "\\begin{tabular}{r|llllllllllll}\n",
       "  & Jan & Feb & Mar & Apr & May & Jun & Jul & Aug & Sep & Oct & Nov & Dec\\\\\n",
       "\\hline\n",
       "\t1949 & 112 & 118 & 132 & 129 & 121 & 135 & 148 & 148 & 136 & 119 & 104 & 118\\\\\n",
       "\t1950 & 115 & 126 & 141 & 135 & 125 & 149 & 170 & 170 & 158 & 133 & 114 & 140\\\\\n",
       "\t1951 & 145 & 150 & 178 & 163 & 172 & 178 & 199 & 199 & 184 & 162 & 146 & 166\\\\\n",
       "\t1952 & 171 & 180 & 193 & 181 & 183 & 218 & 230 & 242 & 209 & 191 & 172 & 194\\\\\n",
       "\t1953 & 196 & 196 & 236 & 235 & 229 & 243 & 264 & 272 & 237 & 211 & 180 & 201\\\\\n",
       "\t1954 & 204 & 188 & 235 & 227 & 234 & 264 & 302 & 293 & 259 & 229 & 203 & 229\\\\\n",
       "\t1955 & 242 & 233 & 267 & 269 & 270 & 315 & 364 & 347 & 312 & 274 & 237 & 278\\\\\n",
       "\t1956 & 284 & 277 & 317 & 313 & 318 & 374 & 413 & 405 & 355 & 306 & 271 & 306\\\\\n",
       "\t1957 & 315 & 301 & 356 & 348 & 355 & 422 & 465 & 467 & 404 & 347 & 305 & 336\\\\\n",
       "\t1958 & 340 & 318 & 362 & 348 & 363 & 435 & 491 & 505 & 404 & 359 & 310 & 337\\\\\n",
       "\t1959 & 360 & 342 & 406 & 396 & 420 & 472 & 548 & 559 & 463 & 407 & 362 & 405\\\\\n",
       "\t1960 & 417 & 391 & 419 & 461 & 472 & 535 & 622 & 606 & 508 & 461 & 390 & 432\\\\\n",
       "\\end{tabular}\n"
      ],
      "text/plain": [
       "     Jan Feb Mar Apr May Jun Jul Aug Sep Oct Nov Dec\n",
       "1949 112 118 132 129 121 135 148 148 136 119 104 118\n",
       "1950 115 126 141 135 125 149 170 170 158 133 114 140\n",
       "1951 145 150 178 163 172 178 199 199 184 162 146 166\n",
       "1952 171 180 193 181 183 218 230 242 209 191 172 194\n",
       "1953 196 196 236 235 229 243 264 272 237 211 180 201\n",
       "1954 204 188 235 227 234 264 302 293 259 229 203 229\n",
       "1955 242 233 267 269 270 315 364 347 312 274 237 278\n",
       "1956 284 277 317 313 318 374 413 405 355 306 271 306\n",
       "1957 315 301 356 348 355 422 465 467 404 347 305 336\n",
       "1958 340 318 362 348 363 435 491 505 404 359 310 337\n",
       "1959 360 342 406 396 420 472 548 559 463 407 362 405\n",
       "1960 417 391 419 461 472 535 622 606 508 461 390 432"
      ]
     },
     "metadata": {},
     "output_type": "display_data"
    }
   ],
   "source": [
    "tsdata"
   ]
  },
  {
   "cell_type": "code",
   "execution_count": 11,
   "metadata": {
    "collapsed": true
   },
   "outputs": [
    {
     "name": "stderr",
     "output_type": "stream",
     "text": [
      "tsdata was converted to a data frame\n"
     ]
    },
    {
     "data": {
      "text/html": [
       "<table>\n",
       "<thead><tr><th scope=col>No</th><th scope=col>Variable</th><th scope=col>Stats / Values</th><th scope=col>Freqs (% of Valid)</th><th scope=col>Graph</th><th scope=col>text.graph</th><th scope=col>Valid</th><th scope=col>Missing</th></tr></thead>\n",
       "<tbody>\n",
       "\t<tr><td>1                                                                                                                                                                                                                                                                                                                                                                                                                                                                                                                                                                                                                                                                                                   </td><td>tsdata\\\n",
       "[ts]                                                                                                                                                                                                                                                                                                                                                                                                                                                                                                                                                                                                                                                                                      </td><td>Mean (sd) : 280.3 (120)\\\n",
       "min &lt; med &lt; max:\\\n",
       "104 &lt; 265.5 &lt; 622\\\n",
       "IQR (CV) : 180.5 (0.4)                                                                                                                                                                                                                                                                                                                                                                                                                                                                                                                                                                                              </td><td><span style=white-space:pre-wrap>118 distinct values \\\n",
       "Start: 1949-01 \\\n",
       "End  : 1960-12</span>                                                                                                                                                                                                                                                                                                                                                                                                                                                                                                                                                                                                   </td><td>&lt;img style=\"border:none;background-color:transparent;padding:0\" src=\"data:image/png;base64, iVBORw0KGgoAAAANSUhEUgAAAJgAAABuBAMAAAApJ8cWAAAABGdBTUEAALGPC/xhBQAAACBjSFJNAAB6JgAAgIQAAPoAAACA6AAAdTAAAOpgAAA6mAAAF3CculE8AAAAD1BMVEX////9/v2mpqby8vL///8shn5hAAAAAnRSTlMAAHaTzTgAAAABYktHRACIBR1IAAAAB3RJTUUH5AEOFiEbgu+uegAAAJBJREFUaN7t2E0KgCAQhmGvUDfQbpD3v1vkzMJAFw5TiL3fwsUnPEQg/oRALEl1NmsUO/KdU0YwMLA5MVnusczvI2u/hZUxKzbysWBgYGBgYGBgYC9iesWTqr70RQPWrcDAwMDA/ov1HxMNmE6AgYGBrYI1jt52TCowsO8w3eR9MK3WxeRnOWGPanosuSQQSy4bqsqqjtLCBAAAACV0RVh0ZGF0ZTpjcmVhdGUAMjAyMC0wMS0xNFQxNzozMzoyNyswNTowMKockoMAAAAldEVYdGRhdGU6bW9kaWZ5ADIwMjAtMDEtMTRUMTc6MzM6MjcrMDU6MDDbQSo/AAAAAElFTkSuQmCC\"&gt;</td><td>\\\n",
       ". : \\ \\ \\ \\ .\\\n",
       ": : . . :\\\n",
       ": : : : :\\\n",
       ": : : : : : :\\\n",
       ": : : : : : : : . .                                                                                                                                                                                                                                                                                                                                                                                                                                                                                                                                                                                                             </td><td>144\\\n",
       "(100%)                                                                                                                                                                                                                                                                                                                                                                                                                                                                                                                                                                                                                                                                                       </td><td>0\\\n",
       "(0%)                                                                                                                                                                                                                                                                                                                                                                                                                                                                                                                                                                                                                                                                                           </td></tr>\n",
       "</tbody>\n",
       "</table>\n"
      ],
      "text/latex": [
       "\\begin{tabular}{r|llllllll}\n",
       " No & Variable & Stats / Values & Freqs (\\% of Valid) & Graph & text.graph & Valid & Missing\\\\\n",
       "\\hline\n",
       "\t 1                                                                                                                                                                                                                                                                                                                                                                                                                                                                                                                                                                                                                                                                                              & tsdata\\textbackslash{}\n",
       "{[}ts{]}                                                                                                                                                                                                                                                                                                                                                                                                                                                                                                                                                                                                                                                              & Mean (sd) : 280.3 (120)\\textbackslash{}\n",
       "min < med < max:\\textbackslash{}\n",
       "104 < 265.5 < 622\\textbackslash{}\n",
       "IQR (CV) : 180.5 (0.4)                                                                                                                                                                                                                                                                                                                                                                                                                                                                                                                                                        & 118 distinct values \\textbackslash{}\n",
       "Start: 1949-01 \\textbackslash{}\n",
       "End  : 1960-12                                                                                                                                                                                                                                                                                                                                                                                                                                                                                                                                                                                                        & <img style=\"border:none;background-color:transparent;padding:0\" src=\"data:image/png;base64, iVBORw0KGgoAAAANSUhEUgAAAJgAAABuBAMAAAApJ8cWAAAABGdBTUEAALGPC/xhBQAAACBjSFJNAAB6JgAAgIQAAPoAAACA6AAAdTAAAOpgAAA6mAAAF3CculE8AAAAD1BMVEX////9/v2mpqby8vL///8shn5hAAAAAnRSTlMAAHaTzTgAAAABYktHRACIBR1IAAAAB3RJTUUH5AEOFiEbgu+uegAAAJBJREFUaN7t2E0KgCAQhmGvUDfQbpD3v1vkzMJAFw5TiL3fwsUnPEQg/oRALEl1NmsUO/KdU0YwMLA5MVnusczvI2u/hZUxKzbysWBgYGBgYGBgYC9iesWTqr70RQPWrcDAwMDA/ov1HxMNmE6AgYGBrYI1jt52TCowsO8w3eR9MK3WxeRnOWGPanosuSQQSy4bqsqqjtLCBAAAACV0RVh0ZGF0ZTpjcmVhdGUAMjAyMC0wMS0xNFQxNzozMzoyNyswNTowMKockoMAAAAldEVYdGRhdGU6bW9kaWZ5ADIwMjAtMDEtMTRUMTc6MzM6MjcrMDU6MDDbQSo/AAAAAElFTkSuQmCC\"> & \\textbackslash{}\n",
       ". : \\textbackslash{} \\textbackslash{} \\textbackslash{} \\textbackslash{} .\\textbackslash{}\n",
       ": : . . :\\textbackslash{}\n",
       ": : : : :\\textbackslash{}\n",
       ": : : : : : :\\textbackslash{}\n",
       ": : : : : : : : . .                                                                                                                                                                                                                                                                                                                                                                                                                                                                 & 144\\textbackslash{}\n",
       "(100\\%)                                                                                                                                                                                                                                                                                                                                                                                                                                                                                                                                                                                                                                                                 & 0\\textbackslash{}\n",
       "(0\\%)                                                                                                                                                                                                                                                                                                                                                                                                                                                                                                                                                                                                                                                                    \\\\\n",
       "\\end{tabular}\n"
      ],
      "text/markdown": [
       "\n",
       "| No | Variable | Stats / Values | Freqs (% of Valid) | Graph | text.graph | Valid | Missing |\n",
       "|---|---|---|---|---|---|---|---|\n",
       "| 1                                                                                                                                                                                                                                                                                                                                                                                                                                                                                                                                                                                                                                                                                              | tsdata\\\n",
       "[ts]                                                                                                                                                                                                                                                                                                                                                                                                                                                                                                                                                                                                                                                                                 | Mean (sd) : 280.3 (120)\\\n",
       "min < med < max:\\\n",
       "104 < 265.5 < 622\\\n",
       "IQR (CV) : 180.5 (0.4)                                                                                                                                                                                                                                                                                                                                                                                                                                                                                                                                                                                                     | 118 distinct values \\\n",
       "Start: 1949-01 \\\n",
       "End  : 1960-12                                                                                                                                                                                                                                                                                                                                                                                                                                                                                                                                                                                                                                      | <img style=\"border:none;background-color:transparent;padding:0\" src=\"data:image/png;base64, iVBORw0KGgoAAAANSUhEUgAAAJgAAABuBAMAAAApJ8cWAAAABGdBTUEAALGPC/xhBQAAACBjSFJNAAB6JgAAgIQAAPoAAACA6AAAdTAAAOpgAAA6mAAAF3CculE8AAAAD1BMVEX////9/v2mpqby8vL///8shn5hAAAAAnRSTlMAAHaTzTgAAAABYktHRACIBR1IAAAAB3RJTUUH5AEOFiEbgu+uegAAAJBJREFUaN7t2E0KgCAQhmGvUDfQbpD3v1vkzMJAFw5TiL3fwsUnPEQg/oRALEl1NmsUO/KdU0YwMLA5MVnusczvI2u/hZUxKzbysWBgYGBgYGBgYC9iesWTqr70RQPWrcDAwMDA/ov1HxMNmE6AgYGBrYI1jt52TCowsO8w3eR9MK3WxeRnOWGPanosuSQQSy4bqsqqjtLCBAAAACV0RVh0ZGF0ZTpjcmVhdGUAMjAyMC0wMS0xNFQxNzozMzoyNyswNTowMKockoMAAAAldEVYdGRhdGU6bW9kaWZ5ADIwMjAtMDEtMTRUMTc6MzM6MjcrMDU6MDDbQSo/AAAAAElFTkSuQmCC\"> | \\\n",
       ". : \\ \\ \\ \\ .\\\n",
       ": : . . :\\\n",
       ": : : : :\\\n",
       ": : : : : : :\\\n",
       ": : : : : : : : . .                                                                                                                                                                                                                                                                                                                                                                                                                                                                                                                                                                                                        | 144\\\n",
       "(100%)                                                                                                                                                                                                                                                                                                                                                                                                                                                                                                                                                                                                                                                                                  | 0\\\n",
       "(0%)                                                                                                                                                                                                                                                                                                                                                                                                                                                                                                                                                                                                                                                                                      |\n",
       "\n"
      ],
      "text/plain": [
       "  No Variable      \n",
       "1 1  tsdata\\\\\\n[ts]\n",
       "  Stats / Values                                                                            \n",
       "1 Mean (sd) : 280.3 (120)\\\\\\nmin < med < max:\\\\\\n104 < 265.5 < 622\\\\\\nIQR (CV) : 180.5 (0.4)\n",
       "  Freqs (% of Valid)                                       \n",
       "1 118 distinct values \\\\\\nStart: 1949-01 \\\\\\nEnd  : 1960-12\n",
       "  Graph                                                                                                                                                                                                                                                                                                                                                                                                                                                                                                                                                                                                                                                                                         \n",
       "1 <img style=\"border:none;background-color:transparent;padding:0\" src=\"data:image/png;base64, iVBORw0KGgoAAAANSUhEUgAAAJgAAABuBAMAAAApJ8cWAAAABGdBTUEAALGPC/xhBQAAACBjSFJNAAB6JgAAgIQAAPoAAACA6AAAdTAAAOpgAAA6mAAAF3CculE8AAAAD1BMVEX////9/v2mpqby8vL///8shn5hAAAAAnRSTlMAAHaTzTgAAAABYktHRACIBR1IAAAAB3RJTUUH5AEOFiEbgu+uegAAAJBJREFUaN7t2E0KgCAQhmGvUDfQbpD3v1vkzMJAFw5TiL3fwsUnPEQg/oRALEl1NmsUO/KdU0YwMLA5MVnusczvI2u/hZUxKzbysWBgYGBgYGBgYC9iesWTqr70RQPWrcDAwMDA/ov1HxMNmE6AgYGBrYI1jt52TCowsO8w3eR9MK3WxeRnOWGPanosuSQQSy4bqsqqjtLCBAAAACV0RVh0ZGF0ZTpjcmVhdGUAMjAyMC0wMS0xNFQxNzozMzoyNyswNTowMKockoMAAAAldEVYdGRhdGU6bW9kaWZ5ADIwMjAtMDEtMTRUMTc6MzM6MjcrMDU6MDDbQSo/AAAAAElFTkSuQmCC\">\n",
       "  text.graph                                                                             \n",
       "1 \\\\\\n. : \\\\ \\\\ \\\\ \\\\ .\\\\\\n: : . . :\\\\\\n: : : : :\\\\\\n: : : : : : :\\\\\\n: : : : : : : : . .\n",
       "  Valid         Missing  \n",
       "1 144\\\\\\n(100%) 0\\\\\\n(0%)"
      ]
     },
     "metadata": {},
     "output_type": "display_data"
    }
   ],
   "source": [
    "dfSummary(tsdata)"
   ]
  },
  {
   "cell_type": "code",
   "execution_count": 16,
   "metadata": {
    "collapsed": true
   },
   "outputs": [
    {
     "data": {
      "text/html": [
       "<table>\n",
       "<thead><tr><th scope=col>x</th></tr></thead>\n",
       "<tbody>\n",
       "\t<tr><td>112</td></tr>\n",
       "\t<tr><td>118</td></tr>\n",
       "\t<tr><td>132</td></tr>\n",
       "\t<tr><td>129</td></tr>\n",
       "\t<tr><td>121</td></tr>\n",
       "\t<tr><td>135</td></tr>\n",
       "\t<tr><td>148</td></tr>\n",
       "\t<tr><td>148</td></tr>\n",
       "\t<tr><td>136</td></tr>\n",
       "\t<tr><td>119</td></tr>\n",
       "\t<tr><td>104</td></tr>\n",
       "\t<tr><td>118</td></tr>\n",
       "\t<tr><td>115</td></tr>\n",
       "\t<tr><td>126</td></tr>\n",
       "\t<tr><td>141</td></tr>\n",
       "\t<tr><td>135</td></tr>\n",
       "\t<tr><td>125</td></tr>\n",
       "\t<tr><td>149</td></tr>\n",
       "\t<tr><td>170</td></tr>\n",
       "\t<tr><td>170</td></tr>\n",
       "\t<tr><td>158</td></tr>\n",
       "\t<tr><td>133</td></tr>\n",
       "\t<tr><td>114</td></tr>\n",
       "\t<tr><td>140</td></tr>\n",
       "\t<tr><td>145</td></tr>\n",
       "\t<tr><td>150</td></tr>\n",
       "\t<tr><td>178</td></tr>\n",
       "\t<tr><td>163</td></tr>\n",
       "\t<tr><td>172</td></tr>\n",
       "\t<tr><td>178</td></tr>\n",
       "\t<tr><td>...</td></tr>\n",
       "\t<tr><td>491</td></tr>\n",
       "\t<tr><td>505</td></tr>\n",
       "\t<tr><td>404</td></tr>\n",
       "\t<tr><td>359</td></tr>\n",
       "\t<tr><td>310</td></tr>\n",
       "\t<tr><td>337</td></tr>\n",
       "\t<tr><td>360</td></tr>\n",
       "\t<tr><td>342</td></tr>\n",
       "\t<tr><td>406</td></tr>\n",
       "\t<tr><td>396</td></tr>\n",
       "\t<tr><td>420</td></tr>\n",
       "\t<tr><td>472</td></tr>\n",
       "\t<tr><td>548</td></tr>\n",
       "\t<tr><td>559</td></tr>\n",
       "\t<tr><td>463</td></tr>\n",
       "\t<tr><td>407</td></tr>\n",
       "\t<tr><td>362</td></tr>\n",
       "\t<tr><td>405</td></tr>\n",
       "\t<tr><td>417</td></tr>\n",
       "\t<tr><td>391</td></tr>\n",
       "\t<tr><td>419</td></tr>\n",
       "\t<tr><td>461</td></tr>\n",
       "\t<tr><td>472</td></tr>\n",
       "\t<tr><td>535</td></tr>\n",
       "\t<tr><td>622</td></tr>\n",
       "\t<tr><td>606</td></tr>\n",
       "\t<tr><td>508</td></tr>\n",
       "\t<tr><td>461</td></tr>\n",
       "\t<tr><td>390</td></tr>\n",
       "\t<tr><td>432</td></tr>\n",
       "</tbody>\n",
       "</table>\n"
      ],
      "text/latex": [
       "\\begin{tabular}{r|l}\n",
       " x\\\\\n",
       "\\hline\n",
       "\t 112\\\\\n",
       "\t 118\\\\\n",
       "\t 132\\\\\n",
       "\t 129\\\\\n",
       "\t 121\\\\\n",
       "\t 135\\\\\n",
       "\t 148\\\\\n",
       "\t 148\\\\\n",
       "\t 136\\\\\n",
       "\t 119\\\\\n",
       "\t 104\\\\\n",
       "\t 118\\\\\n",
       "\t 115\\\\\n",
       "\t 126\\\\\n",
       "\t 141\\\\\n",
       "\t 135\\\\\n",
       "\t 125\\\\\n",
       "\t 149\\\\\n",
       "\t 170\\\\\n",
       "\t 170\\\\\n",
       "\t 158\\\\\n",
       "\t 133\\\\\n",
       "\t 114\\\\\n",
       "\t 140\\\\\n",
       "\t 145\\\\\n",
       "\t 150\\\\\n",
       "\t 178\\\\\n",
       "\t 163\\\\\n",
       "\t 172\\\\\n",
       "\t 178\\\\\n",
       "\t ...\\\\\n",
       "\t 491\\\\\n",
       "\t 505\\\\\n",
       "\t 404\\\\\n",
       "\t 359\\\\\n",
       "\t 310\\\\\n",
       "\t 337\\\\\n",
       "\t 360\\\\\n",
       "\t 342\\\\\n",
       "\t 406\\\\\n",
       "\t 396\\\\\n",
       "\t 420\\\\\n",
       "\t 472\\\\\n",
       "\t 548\\\\\n",
       "\t 559\\\\\n",
       "\t 463\\\\\n",
       "\t 407\\\\\n",
       "\t 362\\\\\n",
       "\t 405\\\\\n",
       "\t 417\\\\\n",
       "\t 391\\\\\n",
       "\t 419\\\\\n",
       "\t 461\\\\\n",
       "\t 472\\\\\n",
       "\t 535\\\\\n",
       "\t 622\\\\\n",
       "\t 606\\\\\n",
       "\t 508\\\\\n",
       "\t 461\\\\\n",
       "\t 390\\\\\n",
       "\t 432\\\\\n",
       "\\end{tabular}\n"
      ],
      "text/markdown": [
       "\n",
       "| x |\n",
       "|---|\n",
       "| 112 |\n",
       "| 118 |\n",
       "| 132 |\n",
       "| 129 |\n",
       "| 121 |\n",
       "| 135 |\n",
       "| 148 |\n",
       "| 148 |\n",
       "| 136 |\n",
       "| 119 |\n",
       "| 104 |\n",
       "| 118 |\n",
       "| 115 |\n",
       "| 126 |\n",
       "| 141 |\n",
       "| 135 |\n",
       "| 125 |\n",
       "| 149 |\n",
       "| 170 |\n",
       "| 170 |\n",
       "| 158 |\n",
       "| 133 |\n",
       "| 114 |\n",
       "| 140 |\n",
       "| 145 |\n",
       "| 150 |\n",
       "| 178 |\n",
       "| 163 |\n",
       "| 172 |\n",
       "| 178 |\n",
       "| ... |\n",
       "| 491 |\n",
       "| 505 |\n",
       "| 404 |\n",
       "| 359 |\n",
       "| 310 |\n",
       "| 337 |\n",
       "| 360 |\n",
       "| 342 |\n",
       "| 406 |\n",
       "| 396 |\n",
       "| 420 |\n",
       "| 472 |\n",
       "| 548 |\n",
       "| 559 |\n",
       "| 463 |\n",
       "| 407 |\n",
       "| 362 |\n",
       "| 405 |\n",
       "| 417 |\n",
       "| 391 |\n",
       "| 419 |\n",
       "| 461 |\n",
       "| 472 |\n",
       "| 535 |\n",
       "| 622 |\n",
       "| 606 |\n",
       "| 508 |\n",
       "| 461 |\n",
       "| 390 |\n",
       "| 432 |\n",
       "\n"
      ],
      "text/plain": [
       "    x  \n",
       "1   112\n",
       "2   118\n",
       "3   132\n",
       "4   129\n",
       "5   121\n",
       "6   135\n",
       "7   148\n",
       "8   148\n",
       "9   136\n",
       "10  119\n",
       "11  104\n",
       "12  118\n",
       "13  115\n",
       "14  126\n",
       "15  141\n",
       "16  135\n",
       "17  125\n",
       "18  149\n",
       "19  170\n",
       "20  170\n",
       "21  158\n",
       "22  133\n",
       "23  114\n",
       "24  140\n",
       "25  145\n",
       "26  150\n",
       "27  178\n",
       "28  163\n",
       "29  172\n",
       "30  178\n",
       "... ...\n",
       "115 491\n",
       "116 505\n",
       "117 404\n",
       "118 359\n",
       "119 310\n",
       "120 337\n",
       "121 360\n",
       "122 342\n",
       "123 406\n",
       "124 396\n",
       "125 420\n",
       "126 472\n",
       "127 548\n",
       "128 559\n",
       "129 463\n",
       "130 407\n",
       "131 362\n",
       "132 405\n",
       "133 417\n",
       "134 391\n",
       "135 419\n",
       "136 461\n",
       "137 472\n",
       "138 535\n",
       "139 622\n",
       "140 606\n",
       "141 508\n",
       "142 461\n",
       "143 390\n",
       "144 432"
      ]
     },
     "metadata": {},
     "output_type": "display_data"
    },
    {
     "name": "stderr",
     "output_type": "stream",
     "text": [
      "ERROR while rich displaying an object: Error in repr_matrix_generic(obj, \"\\n%s%s\\n\", sprintf(\"|%%s\\n|%s|\\n\", : formal argument \"cols\" matched by multiple actual arguments\n",
      "\n",
      "Traceback:\n",
      "1. FUN(X[[i]], ...)\n",
      "2. tryCatch(withCallingHandlers({\n",
      " .     if (!mime %in% names(repr::mime2repr)) \n",
      " .         stop(\"No repr_* for mimetype \", mime, \" in repr::mime2repr\")\n",
      " .     rpr <- repr::mime2repr[[mime]](obj)\n",
      " .     if (is.null(rpr)) \n",
      " .         return(NULL)\n",
      " .     prepare_content(is.raw(rpr), rpr)\n",
      " . }, error = error_handler), error = outer_handler)\n",
      "3. tryCatchList(expr, classes, parentenv, handlers)\n",
      "4. tryCatchOne(expr, names, parentenv, handlers[[1L]])\n",
      "5. doTryCatch(return(expr), name, parentenv, handler)\n",
      "6. withCallingHandlers({\n",
      " .     if (!mime %in% names(repr::mime2repr)) \n",
      " .         stop(\"No repr_* for mimetype \", mime, \" in repr::mime2repr\")\n",
      " .     rpr <- repr::mime2repr[[mime]](obj)\n",
      " .     if (is.null(rpr)) \n",
      " .         return(NULL)\n",
      " .     prepare_content(is.raw(rpr), rpr)\n",
      " . }, error = error_handler)\n",
      "7. repr::mime2repr[[mime]](obj)\n",
      "8. repr_markdown.ts(obj)\n",
      "9. repr_ts_generic(obj, repr_markdown.matrix, ...)\n",
      "10. repr_func(m, ..., rows = nrow(m), cols = ncol(m))\n"
     ]
    },
    {
     "data": {
      "text/html": [
       "<table>\n",
       "<thead><tr><th></th><th scope=col>Jan</th><th scope=col>Feb</th><th scope=col>Mar</th><th scope=col>Apr</th><th scope=col>May</th><th scope=col>Jun</th><th scope=col>Jul</th><th scope=col>Aug</th><th scope=col>Sep</th><th scope=col>Oct</th><th scope=col>Nov</th><th scope=col>Dec</th></tr></thead>\n",
       "<tbody>\n",
       "\t<tr><th scope=row>1949</th><td> 1</td><td> 2</td><td> 3</td><td> 4</td><td> 5</td><td> 6</td><td> 7</td><td> 8</td><td> 9</td><td>10</td><td>11</td><td>12</td></tr>\n",
       "\t<tr><th scope=row>1950</th><td> 1</td><td> 2</td><td> 3</td><td> 4</td><td> 5</td><td> 6</td><td> 7</td><td> 8</td><td> 9</td><td>10</td><td>11</td><td>12</td></tr>\n",
       "\t<tr><th scope=row>1951</th><td> 1</td><td> 2</td><td> 3</td><td> 4</td><td> 5</td><td> 6</td><td> 7</td><td> 8</td><td> 9</td><td>10</td><td>11</td><td>12</td></tr>\n",
       "\t<tr><th scope=row>1952</th><td> 1</td><td> 2</td><td> 3</td><td> 4</td><td> 5</td><td> 6</td><td> 7</td><td> 8</td><td> 9</td><td>10</td><td>11</td><td>12</td></tr>\n",
       "\t<tr><th scope=row>1953</th><td> 1</td><td> 2</td><td> 3</td><td> 4</td><td> 5</td><td> 6</td><td> 7</td><td> 8</td><td> 9</td><td>10</td><td>11</td><td>12</td></tr>\n",
       "\t<tr><th scope=row>1954</th><td> 1</td><td> 2</td><td> 3</td><td> 4</td><td> 5</td><td> 6</td><td> 7</td><td> 8</td><td> 9</td><td>10</td><td>11</td><td>12</td></tr>\n",
       "\t<tr><th scope=row>1955</th><td> 1</td><td> 2</td><td> 3</td><td> 4</td><td> 5</td><td> 6</td><td> 7</td><td> 8</td><td> 9</td><td>10</td><td>11</td><td>12</td></tr>\n",
       "\t<tr><th scope=row>1956</th><td> 1</td><td> 2</td><td> 3</td><td> 4</td><td> 5</td><td> 6</td><td> 7</td><td> 8</td><td> 9</td><td>10</td><td>11</td><td>12</td></tr>\n",
       "\t<tr><th scope=row>1957</th><td> 1</td><td> 2</td><td> 3</td><td> 4</td><td> 5</td><td> 6</td><td> 7</td><td> 8</td><td> 9</td><td>10</td><td>11</td><td>12</td></tr>\n",
       "\t<tr><th scope=row>1958</th><td> 1</td><td> 2</td><td> 3</td><td> 4</td><td> 5</td><td> 6</td><td> 7</td><td> 8</td><td> 9</td><td>10</td><td>11</td><td>12</td></tr>\n",
       "\t<tr><th scope=row>1959</th><td> 1</td><td> 2</td><td> 3</td><td> 4</td><td> 5</td><td> 6</td><td> 7</td><td> 8</td><td> 9</td><td>10</td><td>11</td><td>12</td></tr>\n",
       "\t<tr><th scope=row>1960</th><td> 1</td><td> 2</td><td> 3</td><td> 4</td><td> 5</td><td> 6</td><td> 7</td><td> 8</td><td> 9</td><td>10</td><td>11</td><td>12</td></tr>\n",
       "</tbody>\n",
       "</table>\n"
      ],
      "text/latex": [
       "\\begin{tabular}{r|llllllllllll}\n",
       "  & Jan & Feb & Mar & Apr & May & Jun & Jul & Aug & Sep & Oct & Nov & Dec\\\\\n",
       "\\hline\n",
       "\t1949 &  1 &  2 &  3 &  4 &  5 &  6 &  7 &  8 &  9 & 10 & 11 & 12\\\\\n",
       "\t1950 &  1 &  2 &  3 &  4 &  5 &  6 &  7 &  8 &  9 & 10 & 11 & 12\\\\\n",
       "\t1951 &  1 &  2 &  3 &  4 &  5 &  6 &  7 &  8 &  9 & 10 & 11 & 12\\\\\n",
       "\t1952 &  1 &  2 &  3 &  4 &  5 &  6 &  7 &  8 &  9 & 10 & 11 & 12\\\\\n",
       "\t1953 &  1 &  2 &  3 &  4 &  5 &  6 &  7 &  8 &  9 & 10 & 11 & 12\\\\\n",
       "\t1954 &  1 &  2 &  3 &  4 &  5 &  6 &  7 &  8 &  9 & 10 & 11 & 12\\\\\n",
       "\t1955 &  1 &  2 &  3 &  4 &  5 &  6 &  7 &  8 &  9 & 10 & 11 & 12\\\\\n",
       "\t1956 &  1 &  2 &  3 &  4 &  5 &  6 &  7 &  8 &  9 & 10 & 11 & 12\\\\\n",
       "\t1957 &  1 &  2 &  3 &  4 &  5 &  6 &  7 &  8 &  9 & 10 & 11 & 12\\\\\n",
       "\t1958 &  1 &  2 &  3 &  4 &  5 &  6 &  7 &  8 &  9 & 10 & 11 & 12\\\\\n",
       "\t1959 &  1 &  2 &  3 &  4 &  5 &  6 &  7 &  8 &  9 & 10 & 11 & 12\\\\\n",
       "\t1960 &  1 &  2 &  3 &  4 &  5 &  6 &  7 &  8 &  9 & 10 & 11 & 12\\\\\n",
       "\\end{tabular}\n"
      ],
      "text/plain": [
       "     Jan Feb Mar Apr May Jun Jul Aug Sep Oct Nov Dec\n",
       "1949  1   2   3   4   5   6   7   8   9  10  11  12 \n",
       "1950  1   2   3   4   5   6   7   8   9  10  11  12 \n",
       "1951  1   2   3   4   5   6   7   8   9  10  11  12 \n",
       "1952  1   2   3   4   5   6   7   8   9  10  11  12 \n",
       "1953  1   2   3   4   5   6   7   8   9  10  11  12 \n",
       "1954  1   2   3   4   5   6   7   8   9  10  11  12 \n",
       "1955  1   2   3   4   5   6   7   8   9  10  11  12 \n",
       "1956  1   2   3   4   5   6   7   8   9  10  11  12 \n",
       "1957  1   2   3   4   5   6   7   8   9  10  11  12 \n",
       "1958  1   2   3   4   5   6   7   8   9  10  11  12 \n",
       "1959  1   2   3   4   5   6   7   8   9  10  11  12 \n",
       "1960  1   2   3   4   5   6   7   8   9  10  11  12 "
      ]
     },
     "metadata": {},
     "output_type": "display_data"
    },
    {
     "data": {
      "image/png": "[encoded data removed]",
      "text/plain": [
       "plot without title"
      ]
     },
     "metadata": {},
     "output_type": "display_data"
    }
   ],
   "source": [
    "as.data.frame(tsdata)\n",
    "cycle(tsdata)\n",
    "plot(tsdata, ylab=\"Passengers(1000)\", type=\"o\")"
   ]
  },
  {
   "cell_type": "code",
   "execution_count": 17,
   "metadata": {
    "collapsed": true
   },
   "outputs": [
    {
     "data": {
      "image/png": "[encoded data removed]",
      "text/plain": [
       "plot without title"
      ]
     },
     "metadata": {},
     "output_type": "display_data"
    }
   ],
   "source": [
    "tsdata_decom = decompose(tsdata, type=\"multiplicative\")\n",
    "plot(tsdata_decom)"
   ]
  },
  {
   "cell_type": "code",
   "execution_count": 18,
   "metadata": {},
   "outputs": [
    {
     "name": "stderr",
     "output_type": "stream",
     "text": [
      "Warning message in adf.test(tsdata):\n",
      "\"p-value smaller than printed p-value\""
     ]
    },
    {
     "data": {
      "text/plain": [
       "\n",
       "\tAugmented Dickey-Fuller Test\n",
       "\n",
       "data:  tsdata\n",
       "Dickey-Fuller = -7.3186, Lag order = 5, p-value = 0.01\n",
       "alternative hypothesis: stationary\n"
      ]
     },
     "metadata": {},
     "output_type": "display_data"
    }
   ],
   "source": [
    "adf.test(tsdata)"
   ]
  },
  {
   "cell_type": "code",
   "execution_count": 19,
   "metadata": {
    "collapsed": true
   },
   "outputs": [
    {
     "data": {
      "image/png": "[encoded data removed]",
      "text/plain": [
       "plot without title"
      ]
     },
     "metadata": {},
     "output_type": "display_data"
    }
   ],
   "source": [
    "autoplot(acf(tsdata,plot=FALSE)) + labs(title=\"Correlogram of Air Passenger data\")"
   ]
  },
  {
   "cell_type": "code",
   "execution_count": 20,
   "metadata": {
    "collapsed": true
   },
   "outputs": [
    {
     "name": "stderr",
     "output_type": "stream",
     "text": [
      "ERROR while rich displaying an object: Error in repr_matrix_generic(obj, \"\\n%s%s\\n\", sprintf(\"|%%s\\n|%s|\\n\", : formal argument \"cols\" matched by multiple actual arguments\n",
      "\n",
      "Traceback:\n",
      "1. FUN(X[[i]], ...)\n",
      "2. tryCatch(withCallingHandlers({\n",
      " .     if (!mime %in% names(repr::mime2repr)) \n",
      " .         stop(\"No repr_* for mimetype \", mime, \" in repr::mime2repr\")\n",
      " .     rpr <- repr::mime2repr[[mime]](obj)\n",
      " .     if (is.null(rpr)) \n",
      " .         return(NULL)\n",
      " .     prepare_content(is.raw(rpr), rpr)\n",
      " . }, error = error_handler), error = outer_handler)\n",
      "3. tryCatchList(expr, classes, parentenv, handlers)\n",
      "4. tryCatchOne(expr, names, parentenv, handlers[[1L]])\n",
      "5. doTryCatch(return(expr), name, parentenv, handler)\n",
      "6. withCallingHandlers({\n",
      " .     if (!mime %in% names(repr::mime2repr)) \n",
      " .         stop(\"No repr_* for mimetype \", mime, \" in repr::mime2repr\")\n",
      " .     rpr <- repr::mime2repr[[mime]](obj)\n",
      " .     if (is.null(rpr)) \n",
      " .         return(NULL)\n",
      " .     prepare_content(is.raw(rpr), rpr)\n",
      " . }, error = error_handler)\n",
      "7. repr::mime2repr[[mime]](obj)\n",
      "8. repr_markdown.ts(obj)\n",
      "9. repr_ts_generic(obj, repr_markdown.matrix, ...)\n",
      "10. repr_func(m, ..., rows = nrow(m), cols = ncol(m))\n"
     ]
    },
    {
     "data": {
      "text/html": [
       "<table>\n",
       "<thead><tr><th></th><th scope=col>Jan</th><th scope=col>Feb</th><th scope=col>Mar</th><th scope=col>Apr</th><th scope=col>May</th><th scope=col>Jun</th><th scope=col>Jul</th><th scope=col>Aug</th><th scope=col>Sep</th><th scope=col>Oct</th><th scope=col>Nov</th><th scope=col>Dec</th></tr></thead>\n",
       "<tbody>\n",
       "\t<tr><th scope=row>1949</th><td>       NA</td><td>       NA</td><td>       NA</td><td>       NA</td><td>       NA</td><td>       NA</td><td>0.9516643</td><td>0.9534014</td><td>1.0022198</td><td>1.0040278</td><td>1.0062701</td><td>1.0118119</td></tr>\n",
       "\t<tr><th scope=row>1950</th><td>0.9626030</td><td>1.0714668</td><td>1.0374474</td><td>1.0140476</td><td>0.9269030</td><td>0.9650406</td><td>0.9835566</td><td>0.9733720</td><td>1.0225047</td><td>0.9721928</td><td>0.9389527</td><td>1.0067914</td></tr>\n",
       "\t<tr><th scope=row>1951</th><td>1.0138446</td><td>1.0640180</td><td>1.0918541</td><td>1.0176651</td><td>1.0515825</td><td>0.9460444</td><td>0.9474041</td><td>0.9397599</td><td>0.9888637</td><td>0.9938809</td><td>1.0235337</td><td>1.0250824</td></tr>\n",
       "\t<tr><th scope=row>1952</th><td>1.0258814</td><td>1.0939696</td><td>1.0134734</td><td>0.9695596</td><td>0.9632673</td><td>1.0003735</td><td>0.9468562</td><td>0.9931171</td><td>0.9746302</td><td>1.0046687</td><td>1.0202797</td><td>1.0115407</td></tr>\n",
       "\t<tr><th scope=row>1953</th><td>0.9976684</td><td>1.0151646</td><td>1.0604644</td><td>1.0802327</td><td>1.0413329</td><td>0.9718056</td><td>0.9551933</td><td>0.9894989</td><td>0.9934337</td><td>1.0192680</td><td>1.0009392</td><td>0.9915039</td></tr>\n",
       "\t<tr><th scope=row>1954</th><td>0.9829785</td><td>0.9232032</td><td>1.0044417</td><td>0.9943899</td><td>1.0119479</td><td>0.9978740</td><td>1.0237753</td><td>0.9845184</td><td>0.9881036</td><td>0.9927613</td><td>0.9995143</td><td>0.9908692</td></tr>\n",
       "\t<tr><th scope=row>1955</th><td>1.0154046</td><td>0.9888241</td><td>0.9775844</td><td>1.0015732</td><td>0.9878755</td><td>1.0039635</td><td>1.0385512</td><td>0.9831117</td><td>1.0032501</td><td>1.0003084</td><td>0.9827720</td><td>1.0125535</td></tr>\n",
       "\t<tr><th scope=row>1956</th><td>1.0066157</td><td>0.9970250</td><td>0.9876248</td><td>0.9968224</td><td>0.9985644</td><td>1.0275560</td><td>1.0217685</td><td>1.0004765</td><td>1.0008730</td><td>0.9835071</td><td>0.9932761</td><td>0.9894251</td></tr>\n",
       "\t<tr><th scope=row>1957</th><td>0.9937293</td><td>0.9649918</td><td>0.9881769</td><td>0.9867637</td><td>0.9924177</td><td>1.0328601</td><td>1.0261250</td><td>1.0312668</td><td>1.0236147</td><td>1.0108432</td><td>1.0212995</td><td>1.0005263</td></tr>\n",
       "\t<tr><th scope=row>1958</th><td>0.9954212</td><td>0.9522762</td><td>0.9469115</td><td>0.9383993</td><td>0.9715785</td><td>1.0261340</td><td>1.0483841</td><td>1.0789695</td><td>0.9856540</td><td>0.9977971</td><td>0.9802940</td><td>0.9405687</td></tr>\n",
       "\t<tr><th scope=row>1959</th><td>0.9825176</td><td>0.9505736</td><td>0.9785278</td><td>0.9746440</td><td>1.0177637</td><td>0.9968613</td><td>1.0373136</td><td>1.0531001</td><td>0.9974447</td><td>1.0013371</td><td>1.0134608</td><td>0.9999192</td></tr>\n",
       "\t<tr><th scope=row>1960</th><td>1.0039279</td><td>0.9590794</td><td>0.8940857</td><td>1.0064948</td><td>1.0173588</td><td>1.0120790</td><td>       NA</td><td>       NA</td><td>       NA</td><td>       NA</td><td>       NA</td><td>       NA</td></tr>\n",
       "</tbody>\n",
       "</table>\n"
      ],
      "text/latex": [
       "\\begin{tabular}{r|llllllllllll}\n",
       "  & Jan & Feb & Mar & Apr & May & Jun & Jul & Aug & Sep & Oct & Nov & Dec\\\\\n",
       "\\hline\n",
       "\t1949 &        NA &        NA &        NA &        NA &        NA &        NA & 0.9516643 & 0.9534014 & 1.0022198 & 1.0040278 & 1.0062701 & 1.0118119\\\\\n",
       "\t1950 & 0.9626030 & 1.0714668 & 1.0374474 & 1.0140476 & 0.9269030 & 0.9650406 & 0.9835566 & 0.9733720 & 1.0225047 & 0.9721928 & 0.9389527 & 1.0067914\\\\\n",
       "\t1951 & 1.0138446 & 1.0640180 & 1.0918541 & 1.0176651 & 1.0515825 & 0.9460444 & 0.9474041 & 0.9397599 & 0.9888637 & 0.9938809 & 1.0235337 & 1.0250824\\\\\n",
       "\t1952 & 1.0258814 & 1.0939696 & 1.0134734 & 0.9695596 & 0.9632673 & 1.0003735 & 0.9468562 & 0.9931171 & 0.9746302 & 1.0046687 & 1.0202797 & 1.0115407\\\\\n",
       "\t1953 & 0.9976684 & 1.0151646 & 1.0604644 & 1.0802327 & 1.0413329 & 0.9718056 & 0.9551933 & 0.9894989 & 0.9934337 & 1.0192680 & 1.0009392 & 0.9915039\\\\\n",
       "\t1954 & 0.9829785 & 0.9232032 & 1.0044417 & 0.9943899 & 1.0119479 & 0.9978740 & 1.0237753 & 0.9845184 & 0.9881036 & 0.9927613 & 0.9995143 & 0.9908692\\\\\n",
       "\t1955 & 1.0154046 & 0.9888241 & 0.9775844 & 1.0015732 & 0.9878755 & 1.0039635 & 1.0385512 & 0.9831117 & 1.0032501 & 1.0003084 & 0.9827720 & 1.0125535\\\\\n",
       "\t1956 & 1.0066157 & 0.9970250 & 0.9876248 & 0.9968224 & 0.9985644 & 1.0275560 & 1.0217685 & 1.0004765 & 1.0008730 & 0.9835071 & 0.9932761 & 0.9894251\\\\\n",
       "\t1957 & 0.9937293 & 0.9649918 & 0.9881769 & 0.9867637 & 0.9924177 & 1.0328601 & 1.0261250 & 1.0312668 & 1.0236147 & 1.0108432 & 1.0212995 & 1.0005263\\\\\n",
       "\t1958 & 0.9954212 & 0.9522762 & 0.9469115 & 0.9383993 & 0.9715785 & 1.0261340 & 1.0483841 & 1.0789695 & 0.9856540 & 0.9977971 & 0.9802940 & 0.9405687\\\\\n",
       "\t1959 & 0.9825176 & 0.9505736 & 0.9785278 & 0.9746440 & 1.0177637 & 0.9968613 & 1.0373136 & 1.0531001 & 0.9974447 & 1.0013371 & 1.0134608 & 0.9999192\\\\\n",
       "\t1960 & 1.0039279 & 0.9590794 & 0.8940857 & 1.0064948 & 1.0173588 & 1.0120790 &        NA &        NA &        NA &        NA &        NA &        NA\\\\\n",
       "\\end{tabular}\n"
      ],
      "text/plain": [
       "     Jan       Feb       Mar       Apr       May       Jun       Jul      \n",
       "1949        NA        NA        NA        NA        NA        NA 0.9516643\n",
       "1950 0.9626030 1.0714668 1.0374474 1.0140476 0.9269030 0.9650406 0.9835566\n",
       "1951 1.0138446 1.0640180 1.0918541 1.0176651 1.0515825 0.9460444 0.9474041\n",
       "1952 1.0258814 1.0939696 1.0134734 0.9695596 0.9632673 1.0003735 0.9468562\n",
       "1953 0.9976684 1.0151646 1.0604644 1.0802327 1.0413329 0.9718056 0.9551933\n",
       "1954 0.9829785 0.9232032 1.0044417 0.9943899 1.0119479 0.9978740 1.0237753\n",
       "1955 1.0154046 0.9888241 0.9775844 1.0015732 0.9878755 1.0039635 1.0385512\n",
       "1956 1.0066157 0.9970250 0.9876248 0.9968224 0.9985644 1.0275560 1.0217685\n",
       "1957 0.9937293 0.9649918 0.9881769 0.9867637 0.9924177 1.0328601 1.0261250\n",
       "1958 0.9954212 0.9522762 0.9469115 0.9383993 0.9715785 1.0261340 1.0483841\n",
       "1959 0.9825176 0.9505736 0.9785278 0.9746440 1.0177637 0.9968613 1.0373136\n",
       "1960 1.0039279 0.9590794 0.8940857 1.0064948 1.0173588 1.0120790        NA\n",
       "     Aug       Sep       Oct       Nov       Dec      \n",
       "1949 0.9534014 1.0022198 1.0040278 1.0062701 1.0118119\n",
       "1950 0.9733720 1.0225047 0.9721928 0.9389527 1.0067914\n",
       "1951 0.9397599 0.9888637 0.9938809 1.0235337 1.0250824\n",
       "1952 0.9931171 0.9746302 1.0046687 1.0202797 1.0115407\n",
       "1953 0.9894989 0.9934337 1.0192680 1.0009392 0.9915039\n",
       "1954 0.9845184 0.9881036 0.9927613 0.9995143 0.9908692\n",
       "1955 0.9831117 1.0032501 1.0003084 0.9827720 1.0125535\n",
       "1956 1.0004765 1.0008730 0.9835071 0.9932761 0.9894251\n",
       "1957 1.0312668 1.0236147 1.0108432 1.0212995 1.0005263\n",
       "1958 1.0789695 0.9856540 0.9977971 0.9802940 0.9405687\n",
       "1959 1.0531001 0.9974447 1.0013371 1.0134608 0.9999192\n",
       "1960        NA        NA        NA        NA        NA"
      ]
     },
     "metadata": {},
     "output_type": "display_data"
    }
   ],
   "source": [
    "tsdata_decom$random"
   ]
  },
  {
   "cell_type": "code",
   "execution_count": 22,
   "metadata": {
    "collapsed": true
   },
   "outputs": [
    {
     "data": {
      "image/png": "[encoded data removed]",
      "text/plain": [
       "plot without title"
      ]
     },
     "metadata": {},
     "output_type": "display_data"
    }
   ],
   "source": [
    "autoplot(acf(tsdata_decom$random[7:138], plot=FALSE)) + labs(title=\"Correlogram of Air Passengers Random Component\")"
   ]
  },
  {
   "cell_type": "code",
   "execution_count": 23,
   "metadata": {
    "collapsed": true
   },
   "outputs": [
    {
     "data": {
      "text/plain": [
       "Series: tsdata \n",
       "ARIMA(2,1,1)(0,1,0)[12] \n",
       "\n",
       "Coefficients:\n",
       "         ar1     ar2      ma1\n",
       "      0.5960  0.2143  -0.9819\n",
       "s.e.  0.0888  0.0880   0.0292\n",
       "\n",
       "sigma^2 estimated as 132.3:  log likelihood=-504.92\n",
       "AIC=1017.85   AICc=1018.17   BIC=1029.35"
      ]
     },
     "metadata": {},
     "output_type": "display_data"
    },
    {
     "ename": "ERROR",
     "evalue": "Error in ggtsdiag(arimats): could not find function \"ggtsdiag\"\n",
     "output_type": "error",
     "traceback": [
      "Error in ggtsdiag(arimats): could not find function \"ggtsdiag\"\nTraceback:\n"
     ]
    },
    {
     "data": {
      "image/png": "[encoded data removed]",
      "text/plain": [
       "plot without title"
      ]
     },
     "metadata": {},
     "output_type": "display_data"
    }
   ],
   "source": [
    "autoplot(tsdata) + geom_smooth(method=\"lm\") + labs(x=\"Date\", y=\"PAssengers\", title=\"Passengers Data\")\n",
    "\n",
    "arimats = auto.arima(tsdata)\n",
    "arimats\n",
    "ggtsdiag(arimats)"
   ]
  },
  {
   "cell_type": "code",
   "execution_count": 24,
   "metadata": {
    "collapsed": true
   },
   "outputs": [
    {
     "data": {
      "image/png": "[encoded data removed]",
      "text/plain": [
       "plot without title"
      ]
     },
     "metadata": {},
     "output_type": "display_data"
    }
   ],
   "source": [
    "fts = forecast(arimats, level=c(95))\n",
    "autoplot(fts)"
   ]
  },
  {
   "cell_type": "code",
   "execution_count": null,
   "metadata": {},
   "outputs": [],
   "source": []
  }
 ],
 "metadata": {
  "kernelspec": {
   "display_name": "R",
   "language": "R",
   "name": "ir"
  },
  "language_info": {
   "codemirror_mode": "r",
   "file_extension": ".r",
   "mimetype": "text/x-r-source",
   "name": "R",
   "pygments_lexer": "r",
   "version": "3.6.1"
  }
 },
 "nbformat": 4,
 "nbformat_minor": 2
}
